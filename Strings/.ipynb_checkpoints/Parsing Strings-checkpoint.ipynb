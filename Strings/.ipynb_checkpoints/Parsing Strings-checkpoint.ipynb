{
 "cells": [
  {
   "cell_type": "code",
   "execution_count": 16,
   "id": "25e71dfa-5d35-4561-99bd-876c40cc8afa",
   "metadata": {},
   "outputs": [
    {
     "name": "stdout",
     "output_type": "stream",
     "text": [
      "\n",
      "Year: 2022\n",
      "Month: 09\n",
      "Day: 07\n",
      "Hour: 10\n",
      "Minute: 08\n",
      "\n"
     ]
    }
   ],
   "source": [
    "# HOW TO PARSE AND REFORMAT STRINGS\n",
    "\n",
    "s = '2022-09-07 10:08'\n",
    "\n",
    "# split into date, time. Use space as delimeter\n",
    "s1 = s.split(' ')\n",
    "\n",
    "# breakdown the string list into two strings, one for date, one for time\n",
    "datestring = s1[0]\n",
    "timestring = s1[1]\n",
    "\n",
    "# split datestring into a list, assign it to variables in order they appear in a list\n",
    "[year, month, day] = datestring.split('-')\n",
    "\n",
    "# split timestring, turn list into variables\n",
    "[hour, minute] = timestring.split(':')\n",
    "\n",
    "# create a string out of the variables\n",
    "text = f'''\n",
    "Year: {year}\n",
    "Month: {month}\n",
    "Day: {day}\n",
    "Hour: {hour}\n",
    "Minute: {minute}\n",
    "'''\n",
    "\n",
    "#print the reformatted string of variables\n",
    "print(text)"
   ]
  },
  {
   "cell_type": "code",
   "execution_count": 17,
   "id": "15999567-4ff3-4db9-90b5-220e77c448eb",
   "metadata": {},
   "outputs": [
    {
     "name": "stdout",
     "output_type": "stream",
     "text": [
      "2022\n"
     ]
    }
   ],
   "source": [
    "# HOW TO CONVERT VARIABLES FROM STRINGS TO INTS\n",
    "# doesn't always work so you have to prepare for an error to take place\n",
    "\n",
    "yr = '2022'\n",
    "\n",
    "#Convert varaibles\n",
    "result = None # create placeholder for conversion, set it to none\n",
    "\n",
    "try: \n",
    "    result = int(yr) # attempts the conversion to int\n",
    "except Exception as e: # if there is an error converting the variable, it will give the error below\n",
    "    print(\"Year could not be converted to int\", e)\n",
    "if result is not None: # if conversion is successful, print it\n",
    "    print(result)\n",
    "else:\n",
    "    print(\"This value could not be converted to a year\")\n",
    "    "
   ]
  },
  {
   "cell_type": "code",
   "execution_count": null,
   "id": "c8ab7a32-18c8-46d4-b380-34c12c9e3bb2",
   "metadata": {},
   "outputs": [],
   "source": [
    "# print out this date time string as a literal string of the python datetime characters (check the python docs)\n",
    "\n",
    "import datetime\n",
    "dts = '2022 September 7 10:42'\n",
    "result = None\n",
    "\n",
    "try: \n",
    "    result = datetime.datetime.strptime(dts, '') # brings in method from datetime.\n",
    "except Exception as e: # if there is an error converting the variable, it will give the error below\n",
    "    print(\"Could not be converted to int\", e)\n",
    "if result is not None: # if conversion is successful, print it\n",
    "    print(result)\n",
    "else:\n",
    "    print(\"This value could not be converted\")"
   ]
  }
 ],
 "metadata": {
  "kernelspec": {
   "display_name": "Python 3 (ipykernel)",
   "language": "python",
   "name": "python3"
  },
  "language_info": {
   "codemirror_mode": {
    "name": "ipython",
    "version": 3
   },
   "file_extension": ".py",
   "mimetype": "text/x-python",
   "name": "python",
   "nbconvert_exporter": "python",
   "pygments_lexer": "ipython3",
   "version": "3.10.6"
  }
 },
 "nbformat": 4,
 "nbformat_minor": 5
}
