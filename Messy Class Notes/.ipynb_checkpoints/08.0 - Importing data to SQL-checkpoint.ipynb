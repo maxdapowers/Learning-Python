{
 "cells": [
  {
   "cell_type": "code",
   "execution_count": null,
   "id": "conscious-marker",
   "metadata": {},
   "outputs": [],
   "source": [
    "# create a script which imports all data from data/wifi_list.csv to mysql"
   ]
  },
  {
   "cell_type": "code",
   "execution_count": null,
   "id": "stylish-ozone",
   "metadata": {},
   "outputs": [],
   "source": [
    "# create a script which imports all Atlantic storms data from data/storms.csv"
   ]
  },
  {
   "cell_type": "code",
   "execution_count": null,
   "id": "mounted-adelaide",
   "metadata": {},
   "outputs": [],
   "source": [
    "# Create a script which queries the table and shows the names of all category 4 \n",
    "#    storms in the atlantic"
   ]
  },
  {
   "cell_type": "code",
   "execution_count": null,
   "id": "established-conservation",
   "metadata": {},
   "outputs": [],
   "source": [
    "# Write a script which generates a CSV from the data above."
   ]
  },
  {
   "cell_type": "code",
   "execution_count": null,
   "id": "delayed-parliament",
   "metadata": {},
   "outputs": [],
   "source": [
    "# Write a script which generates 4 CSV files each with storms from that\n",
    "#    category from the table created above."
   ]
  },
  {
   "cell_type": "code",
   "execution_count": null,
   "id": "satisfied-wallet",
   "metadata": {},
   "outputs": [],
   "source": [
    "#  Create a table in mysql for the data in metars.txt.  \n",
    "#      Discuss the fields and field types required"
   ]
  },
  {
   "cell_type": "code",
   "execution_count": null,
   "id": "allied-reverse",
   "metadata": {},
   "outputs": [],
   "source": [
    "# Write a script to insert the metar data using executemany()"
   ]
  },
  {
   "cell_type": "markdown",
   "id": "reliable-stretch",
   "metadata": {},
   "source": [
    "To Know:\n",
    "* Be able to inspect, assess CSV or plain text files and build a corresponding table in mysql.\n",
    "* Be able to write a script which inserts that data"
   ]
  },
  {
   "cell_type": "markdown",
   "id": "superior-correspondence",
   "metadata": {},
   "source": [
    "What can go wrong:\n",
    "* You should be able to rationalize decisions about fileds, field types and filtering techniques when creating tables and importing data."
   ]
  },
  {
   "cell_type": "code",
   "execution_count": null,
   "id": "together-conjunction",
   "metadata": {},
   "outputs": [],
   "source": []
  }
 ],
 "metadata": {
  "kernelspec": {
   "display_name": "Python 3",
   "language": "python",
   "name": "python3"
  },
  "language_info": {
   "codemirror_mode": {
    "name": "ipython",
    "version": 3
   },
   "file_extension": ".py",
   "mimetype": "text/x-python",
   "name": "python",
   "nbconvert_exporter": "python",
   "pygments_lexer": "ipython3",
   "version": "3.6.5"
  }
 },
 "nbformat": 4,
 "nbformat_minor": 5
}
