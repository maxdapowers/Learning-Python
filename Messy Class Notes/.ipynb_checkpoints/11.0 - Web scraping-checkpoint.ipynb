{
 "cells": [
  {
   "cell_type": "code",
   "execution_count": null,
   "metadata": {},
   "outputs": [],
   "source": [
    "'''\n",
    "pip install bs4\n",
    "\n",
    "- Webscraping concepts\n",
    "- When to use\n",
    "- Web technologies\n",
    "    -html,js,css\n",
    "    -DOM\n",
    "    -Ajax\n",
    "- URL parts - https://thecommunitycenter.org/json_events.php?start=2021-10-31&end=2021-12-12&cat=%5BShow+All%5D\n",
    "- parsing using split\n",
    "- robust scripts\n",
    "- parsing using bs4  \n",
    "\n",
    "'''"
   ]
  },
  {
   "cell_type": "code",
   "execution_count": 1,
   "metadata": {},
   "outputs": [
    {
     "name": "stdout",
     "output_type": "stream",
     "text": [
      "<!-- ff5c91b14960d6953c4d1e3d01803a66 --><!DOCTYPE html>\n",
      "<html prefix=\"og: http://ogp.me/ns#\">\n",
      "<he\n"
     ]
    }
   ],
   "source": [
    "import requests\n",
    "\n",
    "url = 'https://thecommunitycenter.org/calendar.php'\n",
    "\n",
    "r = requests.get(url)\n",
    "\n",
    "print(r.text[0:100])"
   ]
  },
  {
   "cell_type": "code",
   "execution_count": null,
   "metadata": {},
   "outputs": [],
   "source": [
    "# find a website with some data to scrape."
   ]
  },
  {
   "cell_type": "code",
   "execution_count": null,
   "metadata": {},
   "outputs": [],
   "source": [
    "# https://     forecast.weather.gov/   MapClick.php    ?lat=44.673&lon=-74.983  #.Y3UAo3bMKM8\n",
    " protocol           domain name           endpoint       key pair values          anchor\n"
   ]
  },
  {
   "cell_type": "code",
   "execution_count": 26,
   "metadata": {},
   "outputs": [
    {
     "name": "stdout",
     "output_type": "stream",
     "text": [
      "44.94\n",
      "74.85\n",
      "217\n",
      "{'location_name': 'Massena, Massena International-Richards Field (KMSS)'}\n"
     ]
    }
   ],
   "source": [
    "from bs4 import BeautifulSoup\n",
    "import requests\n",
    "import json\n",
    "url = 'https://forecast.weather.gov/MapClick.php?lat=44.673&lon=-74.983'\n",
    "r = requests.get(url)\n",
    "soup = BeautifulSoup(r.text, 'html.parser')\n",
    "\n",
    "d = {}\n",
    "d['location_name'] = soup.find_all(\"h2\")[0].text\n",
    "\n",
    "for span in soup.find_all(\"span\"): #<div class=\"a b\">\n",
    "    #print(span.get(\"class\"))\n",
    "    if 'smallTxt' in span.get(\"class\") :\n",
    "        print(str(span).split(\"</b>\")[1].split(\"°\")[0])\n",
    "        print(str(span).split(\"</b>\")[2].split(\"°\")[0])\n",
    "        print(str(span).split(\"</b>\")[3].split(\"ft.\")[0])\n",
    "\n",
    "\n",
    "print(d)\n",
    "\n"
   ]
  },
  {
   "cell_type": "code",
   "execution_count": 14,
   "metadata": {},
   "outputs": [
    {
     "name": "stdout",
     "output_type": "stream",
     "text": [
      "<td class=\"text-right\"><b>Humidity</b></td>\n",
      "<td>92%</td>\n",
      "92%\n",
      "<td class=\"text-right\"><b>Wind Speed</b></td>\n",
      "<td>Calm</td>\n",
      "Calm\n",
      "<td class=\"text-right\"><b>Barometer</b></td>\n",
      "<td>29.92 in (1013.7 mb)</td>\n",
      "<td class=\"text-right\"><b>Dewpoint</b></td>\n",
      "<td>30°F (-1°C)</td>\n",
      "<td class=\"text-right\"><b>Visibility</b></td>\n",
      "<td>0.75 mi</td>\n",
      "<td class=\"text-right\"><b>Last update</b></td>\n",
      "<td>\n",
      "                16 Nov 9:53 am EST            </td>\n"
     ]
    }
   ],
   "source": [
    "for div in soup.find_all(\"div\"): #<div>\n",
    "    if div.get(\"id\") == 'current_conditions_detail':\n",
    "        i=0\n",
    "        for cell in div.find_all(\"td\"):\n",
    "            print (cell)\n",
    "            if i == 1:\n",
    "                print(cell.text)\n",
    "            if i == 3:\n",
    "                print(cell.text)\n",
    "            i+=1\n"
   ]
  }
 ],
 "metadata": {
  "kernelspec": {
   "display_name": "Python 3.10.7 64-bit",
   "language": "python",
   "name": "python3"
  },
  "language_info": {
   "codemirror_mode": {
    "name": "ipython",
    "version": 3
   },
   "file_extension": ".py",
   "mimetype": "text/x-python",
   "name": "python",
   "nbconvert_exporter": "python",
   "pygments_lexer": "ipython3",
   "version": "3.10.7"
  },
  "orig_nbformat": 4,
  "vscode": {
   "interpreter": {
    "hash": "beedbe2faf2f7048d727558d0bc3221e7eba2a0b921cac4d4771b2feb8f74b30"
   }
  }
 },
 "nbformat": 4,
 "nbformat_minor": 2
}
