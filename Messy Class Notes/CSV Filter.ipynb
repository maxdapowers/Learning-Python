{
 "cells": [
  {
   "cell_type": "code",
   "execution_count": 13,
   "id": "56c71924-d4f4-4628-8e3a-0613c683b392",
   "metadata": {},
   "outputs": [],
   "source": [
    "# Creating subsets\n",
    "# Create a smaller subset of a very large CSV:\n",
    "import csv\n",
    "\n",
    "#load the input file\n",
    "f1 = open('data/crypto-markets.csv','r')\n",
    "reader = csv.reader(f1)\n",
    "\n",
    "#clear the destination file\n",
    "f = open('data/filtered_crypto.csv', 'w', newline ='')\n",
    "f.write('')\n",
    "f.close()\n",
    "\n",
    "#open destination for appending \n",
    "f = open('data/filtered_crypto.csv', 'a', newline ='')\n",
    "writer = csv.writer(f)\n",
    "n = 0\n",
    "row_count = 0\n",
    "for row in reader:\n",
    "    if n == 0: # write header on first iteration\n",
    "        writer.writerow(row[0:12]) #(?)12 or 13\n",
    "    symbol = row[1]\n",
    "    if symbol == 'ETH':\n",
    "        writer.writerow(row[0:12])\n",
    "    n=+1\n",
    "f.close()"
   ]
  },
  {
   "cell_type": "code",
   "execution_count": null,
   "id": "03578cbe-79c3-4d11-9584-0cc3f45d9798",
   "metadata": {},
   "outputs": [],
   "source": []
  }
 ],
 "metadata": {
  "kernelspec": {
   "display_name": "Python 3 (ipykernel)",
   "language": "python",
   "name": "python3"
  },
  "language_info": {
   "codemirror_mode": {
    "name": "ipython",
    "version": 3
   },
   "file_extension": ".py",
   "mimetype": "text/x-python",
   "name": "python",
   "nbconvert_exporter": "python",
   "pygments_lexer": "ipython3",
   "version": "3.10.6"
  }
 },
 "nbformat": 4,
 "nbformat_minor": 5
}
