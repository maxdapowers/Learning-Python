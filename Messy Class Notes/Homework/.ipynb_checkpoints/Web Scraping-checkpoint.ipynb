{
 "cells": [
  {
   "cell_type": "code",
   "execution_count": 63,
   "id": "924f93a2-7c9e-4376-903a-2b7c811b2899",
   "metadata": {},
   "outputs": [
    {
     "name": "stdout",
     "output_type": "stream",
     "text": [
      "{\n",
      "    \"location_name\": \"Massena, Massena International-Richards Field (KMSS)\",\n",
      "    \"lat\": \"44.94\",\n",
      "    \"lon\": \"74.85\",\n",
      "    \"elevation\": \"217\",\n",
      "    \"last_updated\": \"2022-11-30 03:53 PM\"\n",
      "}\n"
     ]
    }
   ],
   "source": [
    "from bs4 import BeautifulSoup\n",
    "import requests\n",
    "import json\n",
    "import datetime\n",
    "\n",
    "url = 'https://forecast.weather.gov/MapClick.php?lat=44.67295000000007&lon=-74.98295499999995'\n",
    "r = requests.get(url)\n",
    "soup = BeautifulSoup(r.text, 'html.parser')\n",
    "\n",
    "d = {}\n",
    "d['location_name'] = soup.find_all(\"h2\")[0].text\n",
    "\n",
    "for span in soup.find_all(\"span\"): #<div class=\"a b\">\n",
    "    #print(span.get(\"class\"))\n",
    "    if 'smallTxt' in span.get(\"class\") :\n",
    "        d['lat'] = str(span).split(\"</b>\")[1].split(\"°\")[0]\n",
    "        d['lon'] = str(span).split(\"</b>\")[2].split(\"°\")[0]\n",
    "        d['elevation'] = str(span).split(\"</b>\")[3].split(\"ft.\")[0]\n",
    "    \n",
    "for div in soup.find_all(\"div\"):\n",
    "    if div.get('id') is not None:\n",
    "        # print(div.get('id'))\n",
    "        if 'current_conditions_detail' in div.get('id'):\n",
    "            last_updated = str(div).split(\"/tr\")[6].split(\"</td>\")[1].split(\"<td>\")[1].strip()\n",
    "            dto = datetime.datetime.strptime(last_updated, \"%d %b %I:%M %p %Z\")\n",
    "            d['last_updated'] = dto.strftime(\"2022-%m-%d %I:%M %p\")\n",
    "\n",
    "json_d = json.dumps(d, indent = 4) \n",
    "print(json_d)"
   ]
  },
  {
   "cell_type": "code",
   "execution_count": null,
   "id": "01fba763-283f-4fc4-a248-dfb86ee329a0",
   "metadata": {},
   "outputs": [],
   "source": []
  },
  {
   "cell_type": "code",
   "execution_count": null,
   "id": "ea2d0e3c-088b-4086-8f65-e96be50bcb02",
   "metadata": {},
   "outputs": [],
   "source": []
  }
 ],
 "metadata": {
  "kernelspec": {
   "display_name": "Python 3 (ipykernel)",
   "language": "python",
   "name": "python3"
  },
  "language_info": {
   "codemirror_mode": {
    "name": "ipython",
    "version": 3
   },
   "file_extension": ".py",
   "mimetype": "text/x-python",
   "name": "python",
   "nbconvert_exporter": "python",
   "pygments_lexer": "ipython3",
   "version": "3.10.6"
  }
 },
 "nbformat": 4,
 "nbformat_minor": 5
}
