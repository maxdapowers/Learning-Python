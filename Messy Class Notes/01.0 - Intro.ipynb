{
 "cells": [
  {
   "cell_type": "markdown",
   "id": "southeast-chrome",
   "metadata": {},
   "source": [
    "This is a notebook cell in 'markdown' mode.\n",
    "\n",
    "In the first class we will\n",
    "* discuss class outline, grading and schedule\n",
    "* about me\n",
    "* review the various ways to run python scripts\n",
    "* review and expand our python / cli voabulary\n",
    "* download and setup the github client app\n",
    "* clone this repo\n",
    "* discuss Slack (create account, add is426 channel) and class flow\n",
    "* how to get help with code\n",
    "\n"
   ]
  },
  {
   "cell_type": "code",
   "execution_count": null,
   "id": "historic-violation",
   "metadata": {},
   "outputs": [],
   "source": [
    "# This is a comment in cell in Python mode"
   ]
  },
  {
   "cell_type": "code",
   "execution_count": null,
   "id": "center-soldier",
   "metadata": {},
   "outputs": [],
   "source": [
    "'''\n",
    "This comment is \n",
    "multi \n",
    "line\n",
    "\n",
    "'''"
   ]
  },
  {
   "cell_type": "code",
   "execution_count": 1,
   "id": "american-favorite",
   "metadata": {},
   "outputs": [],
   "source": [
    "a = 10"
   ]
  },
  {
   "cell_type": "code",
   "execution_count": 2,
   "id": "knowing-denial",
   "metadata": {},
   "outputs": [
    {
     "name": "stdout",
     "output_type": "stream",
     "text": [
      "10\n"
     ]
    }
   ],
   "source": [
    "print(a)"
   ]
  },
  {
   "cell_type": "code",
   "execution_count": 3,
   "id": "broke-stick",
   "metadata": {},
   "outputs": [
    {
     "data": {
      "text/plain": [
       "int"
      ]
     },
     "execution_count": 3,
     "metadata": {},
     "output_type": "execute_result"
    }
   ],
   "source": [
    "#Understanding types in Python is single the most important skill\n",
    "type(a)"
   ]
  },
  {
   "cell_type": "code",
   "execution_count": 5,
   "id": "minus-arlington",
   "metadata": {},
   "outputs": [
    {
     "name": "stdout",
     "output_type": "stream",
     "text": [
      "<class 'str'>\n"
     ]
    }
   ],
   "source": [
    "print(type(\"hello\"))"
   ]
  },
  {
   "cell_type": "code",
   "execution_count": 6,
   "id": "unknown-excerpt",
   "metadata": {},
   "outputs": [
    {
     "name": "stdout",
     "output_type": "stream",
     "text": [
      "Level 1\n",
      "Level 2\n",
      "Level 3\n"
     ]
    }
   ],
   "source": [
    "text = '''Level 1\n",
    "Level 2\n",
    "Level 3'''\n",
    "print(text)"
   ]
  },
  {
   "cell_type": "code",
   "execution_count": null,
   "id": "right-scout",
   "metadata": {},
   "outputs": [],
   "source": [
    "# Assign the variable q to the value 123"
   ]
  },
  {
   "cell_type": "code",
   "execution_count": null,
   "id": "outside-sister",
   "metadata": {},
   "outputs": [],
   "source": [
    "# What is the best type to use to store the total shots on goal at a hockey game?"
   ]
  },
  {
   "cell_type": "code",
   "execution_count": null,
   "id": "cooked-loading",
   "metadata": {},
   "outputs": [],
   "source": [
    "# What is the best type to use to store a zipcode?"
   ]
  },
  {
   "cell_type": "code",
   "execution_count": null,
   "id": "accepted-heavy",
   "metadata": {},
   "outputs": [],
   "source": [
    "# What variable type would you use to store a phone number?"
   ]
  },
  {
   "cell_type": "code",
   "execution_count": null,
   "id": "terminal-lyric",
   "metadata": {},
   "outputs": [],
   "source": [
    "# What variable type would you use to store a date?"
   ]
  },
  {
   "cell_type": "code",
   "execution_count": null,
   "id": "sustainable-channels",
   "metadata": {},
   "outputs": [],
   "source": [
    "# What variable type would you use to store a time of day?"
   ]
  },
  {
   "cell_type": "code",
   "execution_count": null,
   "id": "blond-dragon",
   "metadata": {},
   "outputs": [],
   "source": [
    "# What variable type would you use to store time remaining?"
   ]
  },
  {
   "cell_type": "code",
   "execution_count": 2,
   "id": "varying-alignment",
   "metadata": {},
   "outputs": [
    {
     "name": "stdout",
     "output_type": "stream",
     "text": [
      "True\n"
     ]
    }
   ],
   "source": [
    "# Try working with different variable types - math / comparisons with strings vs. numerics etc.\n",
    "\n",
    "if '5' > '100':\n",
    "    print('True')\n",
    "else:\n",
    "    print('False')"
   ]
  },
  {
   "cell_type": "code",
   "execution_count": null,
   "id": "numeric-charleston",
   "metadata": {},
   "outputs": [],
   "source": [
    "#runtime errors"
   ]
  },
  {
   "cell_type": "code",
   "execution_count": 3,
   "id": "referenced-charger",
   "metadata": {},
   "outputs": [
    {
     "ename": "SyntaxError",
     "evalue": "invalid syntax (<ipython-input-3-33f0ff404e21>, line 4)",
     "output_type": "error",
     "traceback": [
      "\u001b[1;36m  File \u001b[1;32m\"<ipython-input-3-33f0ff404e21>\"\u001b[1;36m, line \u001b[1;32m4\u001b[0m\n\u001b[1;33m    else\u001b[0m\n\u001b[1;37m        ^\u001b[0m\n\u001b[1;31mSyntaxError\u001b[0m\u001b[1;31m:\u001b[0m invalid syntax\n"
     ]
    }
   ],
   "source": [
    "# see a syntax error\n",
    "if '5' > '100':\n",
    "    print('True')\n",
    "else\n",
    "    print('False')"
   ]
  },
  {
   "cell_type": "code",
   "execution_count": null,
   "id": "mental-priest",
   "metadata": {},
   "outputs": [],
   "source": [
    "# see a type error"
   ]
  },
  {
   "cell_type": "code",
   "execution_count": 4,
   "id": "employed-referral",
   "metadata": {},
   "outputs": [
    {
     "ename": "TypeError",
     "evalue": "must be str, not int",
     "output_type": "error",
     "traceback": [
      "\u001b[1;31m---------------------------------------------------------------------------\u001b[0m",
      "\u001b[1;31mTypeError\u001b[0m                                 Traceback (most recent call last)",
      "\u001b[1;32m<ipython-input-4-23a4bbc288df>\u001b[0m in \u001b[0;36m<module>\u001b[1;34m\u001b[0m\n\u001b[1;32m----> 1\u001b[1;33m \u001b[0mprint\u001b[0m\u001b[1;33m(\u001b[0m\u001b[1;34m'5'\u001b[0m \u001b[1;33m+\u001b[0m \u001b[1;36m5\u001b[0m\u001b[1;33m)\u001b[0m\u001b[1;33m\u001b[0m\u001b[0m\n\u001b[0m",
      "\u001b[1;31mTypeError\u001b[0m: must be str, not int"
     ]
    }
   ],
   "source": [
    "print('5' + 5)"
   ]
  },
  {
   "cell_type": "code",
   "execution_count": 5,
   "id": "entertaining-bargain",
   "metadata": {},
   "outputs": [
    {
     "ename": "NameError",
     "evalue": "name 'name' is not defined",
     "output_type": "error",
     "traceback": [
      "\u001b[1;31m---------------------------------------------------------------------------\u001b[0m",
      "\u001b[1;31mNameError\u001b[0m                                 Traceback (most recent call last)",
      "\u001b[1;32m<ipython-input-5-d46600323492>\u001b[0m in \u001b[0;36m<module>\u001b[1;34m\u001b[0m\n\u001b[1;32m----> 1\u001b[1;33m \u001b[0mx\u001b[0m \u001b[1;33m=\u001b[0m \u001b[1;34m'My name is '\u001b[0m \u001b[1;33m+\u001b[0m \u001b[0mname\u001b[0m\u001b[1;33m\u001b[0m\u001b[0m\n\u001b[0m",
      "\u001b[1;31mNameError\u001b[0m: name 'name' is not defined"
     ]
    }
   ],
   "source": [
    "#name error\n",
    "x = 'My name is ' + name"
   ]
  },
  {
   "cell_type": "code",
   "execution_count": 6,
   "id": "hazardous-article",
   "metadata": {},
   "outputs": [
    {
     "ename": "SyntaxError",
     "evalue": "invalid syntax (<ipython-input-6-4abea1e36e1b>, line 1)",
     "output_type": "error",
     "traceback": [
      "\u001b[1;36m  File \u001b[1;32m\"<ipython-input-6-4abea1e36e1b>\"\u001b[1;36m, line \u001b[1;32m1\u001b[0m\n\u001b[1;33m    x = 'My name is ' name\u001b[0m\n\u001b[1;37m                         ^\u001b[0m\n\u001b[1;31mSyntaxError\u001b[0m\u001b[1;31m:\u001b[0m invalid syntax\n"
     ]
    }
   ],
   "source": [
    "#another syntax error\n",
    "x = 'My name is ' name"
   ]
  },
  {
   "cell_type": "code",
   "execution_count": 1,
   "id": "b9ae5da0-7ef4-4e5e-9642-49eed0cee8c0",
   "metadata": {},
   "outputs": [],
   "source": [
    "#make sure to upload this notebook to slack at the end of class"
   ]
  },
  {
   "cell_type": "code",
   "execution_count": null,
   "id": "3ea100ee-eec8-470a-a563-b8138c1d2ffa",
   "metadata": {},
   "outputs": [],
   "source": [
    "#discuss restarting kernel - loops etc."
   ]
  },
  {
   "cell_type": "code",
   "execution_count": null,
   "id": "f2a308c0-9f1c-49fd-a41d-4a1b3ad4ca4a",
   "metadata": {},
   "outputs": [],
   "source": []
  },
  {
   "cell_type": "markdown",
   "id": "adjustable-sensitivity",
   "metadata": {},
   "source": [
    "To know:\n",
    "* CLI commands `ls,pwd,cd, ../, ./`\n",
    "* How to show / edit /run a .ipynb file\n",
    "* How to show / edit /run a .py file\n",
    "* understand how to debug syntax errors\n",
    "* How to install modules with pip\n",
    "* Be able to start a notebook in a pwd\n",
    "* Clone repo from github\n",
    "* be able to debug some errors"
   ]
  },
  {
   "cell_type": "markdown",
   "id": "hired-howard",
   "metadata": {},
   "source": [
    "Things that go wrong:\n",
    "* Python or and CLI command not installed or spelled wrong\n",
    "* pwd not correct (can't find files)\n",
    "* Notebook offline\n",
    "* Kernel issues\n",
    "* know these: syntax errors, name errors, type errors\n",
    "* infinite loops exiting in jupyter and cli"
   ]
  },
  {
   "cell_type": "code",
   "execution_count": null,
   "id": "particular-kennedy",
   "metadata": {},
   "outputs": [],
   "source": []
  }
 ],
 "metadata": {
  "kernelspec": {
   "display_name": "Python 3 (ipykernel)",
   "language": "python",
   "name": "python3"
  },
  "language_info": {
   "codemirror_mode": {
    "name": "ipython",
    "version": 3
   },
   "file_extension": ".py",
   "mimetype": "text/x-python",
   "name": "python",
   "nbconvert_exporter": "python",
   "pygments_lexer": "ipython3",
   "version": "3.10.6"
  }
 },
 "nbformat": 4,
 "nbformat_minor": 5
}
