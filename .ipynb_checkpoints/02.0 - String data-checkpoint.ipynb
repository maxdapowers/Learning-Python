{
 "cells": [
  {
   "cell_type": "code",
   "execution_count": null,
   "id": "smoking-moldova",
   "metadata": {},
   "outputs": [],
   "source": [
    "# Store a string as a variable s"
   ]
  },
  {
   "cell_type": "code",
   "execution_count": null,
   "id": "medieval-martin",
   "metadata": {},
   "outputs": [],
   "source": [
    "# Print the string variable s"
   ]
  },
  {
   "cell_type": "code",
   "execution_count": 1,
   "id": "suitable-custody",
   "metadata": {},
   "outputs": [],
   "source": [
    "# Print a string literal"
   ]
  },
  {
   "cell_type": "code",
   "execution_count": 9,
   "id": "3638dcee-8ca2-4e40-b7c0-f1359332c644",
   "metadata": {},
   "outputs": [
    {
     "name": "stdout",
     "output_type": "stream",
     "text": [
      "A\n",
      "B\n",
      "C\n"
     ]
    }
   ],
   "source": [
    "# discuss string encoding / ascii / utf-8\n",
    "print(chr(65))\n",
    "print(chr(66))\n",
    "print(chr(67))"
   ]
  },
  {
   "cell_type": "code",
   "execution_count": null,
   "id": "pediatric-sympathy",
   "metadata": {},
   "outputs": [],
   "source": [
    "# Print the string literal shown below:\n",
    "# The main character turned and shouted \"That's my coffee!\""
   ]
  },
  {
   "cell_type": "code",
   "execution_count": null,
   "id": "33ed15c8-318e-4e95-a585-fd5853d10df2",
   "metadata": {},
   "outputs": [],
   "source": [
    "# Indexing / slicing"
   ]
  },
  {
   "cell_type": "code",
   "execution_count": null,
   "id": "f4ba5c48-cbee-42ef-97e5-2e6755d9c09b",
   "metadata": {},
   "outputs": [],
   "source": [
    "# Iterate over a string's chars. "
   ]
  },
  {
   "cell_type": "code",
   "execution_count": null,
   "id": "37c0d817-6407-40f0-9d6a-a92c7a120953",
   "metadata": {},
   "outputs": [],
   "source": [
    "# concatenation +"
   ]
  },
  {
   "cell_type": "code",
   "execution_count": null,
   "id": "daba4b2c-a334-4192-8ded-7d1bbf88a330",
   "metadata": {},
   "outputs": [],
   "source": []
  },
  {
   "cell_type": "code",
   "execution_count": null,
   "id": "e566db8d-d88c-40f1-a668-5443bfdbb017",
   "metadata": {},
   "outputs": [],
   "source": [
    "# formating strings f'{}'\n"
   ]
  },
  {
   "cell_type": "code",
   "execution_count": null,
   "id": "strategic-seeker",
   "metadata": {},
   "outputs": [],
   "source": [
    "# How to take user input from standard in"
   ]
  },
  {
   "cell_type": "code",
   "execution_count": null,
   "id": "synthetic-navigator",
   "metadata": {},
   "outputs": [],
   "source": [
    "# Use split to split a sting into a list."
   ]
  },
  {
   "cell_type": "code",
   "execution_count": null,
   "id": "971cef4d-cd80-4c6e-b133-3e1c355d2fa8",
   "metadata": {},
   "outputs": [],
   "source": [
    "# Create a script which take a data from user in the format yyyy-mm-dd hh:mm\n",
    "#   and prints it in the format: (use split)\n",
    "'''\n",
    "Year: yyyy\n",
    "Month: mm\n",
    "Day: dd\n",
    "Hour: hh\n",
    "Minute: mm\n",
    "'''\n"
   ]
  },
  {
   "cell_type": "code",
   "execution_count": null,
   "id": "50039f76-a395-441f-8451-fa546c5d1fe7",
   "metadata": {},
   "outputs": [],
   "source": []
  },
  {
   "cell_type": "code",
   "execution_count": null,
   "id": "optical-symbol",
   "metadata": {},
   "outputs": [],
   "source": [
    "# Type conversions  str -> numeric\n",
    "# ->-> try / except pattern when conversion can fail\n",
    "# ---------------------------------------------------\n",
    "# create a script which takes your age in years\n",
    "#    and converts it to your age in seconds."
   ]
  },
  {
   "cell_type": "code",
   "execution_count": null,
   "id": "subtle-person",
   "metadata": {},
   "outputs": [],
   "source": [
    "# using the datetime module\n",
    "# convert your code from above into code that uses the datetime module"
   ]
  },
  {
   "cell_type": "markdown",
   "id": "institutional-japan",
   "metadata": {},
   "source": [
    "To Know:\n",
    "* literal vs variable\n",
    "* escaping quotes\n",
    "* splitting strings into lists\n",
    "* try / except for type conversion - know the pattern!\n",
    "* datetime - know how to parse from string and get properties of a datetime object\n",
    "* Identify reciever, method, arguments and properties "
   ]
  },
  {
   "cell_type": "markdown",
   "id": "absolute-bridge",
   "metadata": {},
   "source": [
    "Things that can go wrong:\n",
    "* unbalanced quotes on strings\n",
    "* index out of range after split\n",
    "* accidentally supressed errors - always use `except Exception as e`\n"
   ]
  },
  {
   "cell_type": "code",
   "execution_count": null,
   "id": "domestic-intermediate",
   "metadata": {},
   "outputs": [],
   "source": []
  }
 ],
 "metadata": {
  "kernelspec": {
   "display_name": "Python 3 (ipykernel)",
   "language": "python",
   "name": "python3"
  },
  "language_info": {
   "codemirror_mode": {
    "name": "ipython",
    "version": 3
   },
   "file_extension": ".py",
   "mimetype": "text/x-python",
   "name": "python",
   "nbconvert_exporter": "python",
   "pygments_lexer": "ipython3",
   "version": "3.10.6"
  }
 },
 "nbformat": 4,
 "nbformat_minor": 5
}
