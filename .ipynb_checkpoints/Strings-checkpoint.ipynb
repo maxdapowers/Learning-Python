{
 "cells": [
  {
   "cell_type": "code",
   "execution_count": 6,
   "id": "310a5a15-eaa2-431b-a844-01a2b6461854",
   "metadata": {},
   "outputs": [
    {
     "name": "stdout",
     "output_type": "stream",
     "text": [
      "\u0000\u0001\u0002\u0003\u0004\u0005\u0006\t\n",
      "\u000e\u000f\u0010\u0011\u0012\u0013\u0014\u0015\u0016\u0017\u0018\u0019\u001a\u001b\u001c",
      "\u001d",
      "\u001e",
      "\u001f !\"#$%&'()*+,-./0123456789:;<=>?@ABCDEFGHIJKLMNOPQRSTUVWXYZ[\\]^_`abcdefghijklmnopqrstuvwxyz{|}~",
      " ¡¢£¤¥¦§¨©ª«¬­®¯°±²³´µ¶·¸¹º»¼½¾¿ÀÁÂÃÄÅÆÇÈÉÊËÌÍÎÏÐÑÒÓÔÕÖ×ØÙÚÛÜÝÞßàáâãäåæçèéêëìíîïðñòóôõö÷øùúûüýþÿĀāĂăĄąĆćĈĉĊċČčĎďĐđĒēĔĕĖėĘęĚěĜĝĞğĠġĢģĤĥĦħĨĩĪīĬĭĮįİıĲĳĴĵĶķĸĹĺĻļĽľĿŀŁłŃńŅņŇňŉŊŋŌōŎŏŐőŒœŔŕŖŗŘřŚśŜŝŞşŠšŢţŤťŦŧŨũŪūŬŭŮůŰűŲųŴŵŶŷŸŹźŻżŽžſƀƁƂƃƄƅƆƇƈƉƊƋƌƍƎƏƐƑƒƓƔƕƖƗƘƙƚƛƜƝƞƟƠơƢƣƤƥƦƧƨƩƪƫƬƭƮƯưƱƲƳƴƵƶƷƸƹƺƻƼƽƾƿǀǁǂǃǄǅǆǇǈǉǊǋǌǍǎǏǐǑǒǓǔǕǖǗǘǙǚǛǜǝǞǟǠǡǢǣǤǥǦǧǨǩǪǫǬǭǮǯǰǱǲǳ"
     ]
    }
   ],
   "source": [
    "# Asci characters. Loop itterates through the asci character number, prints the char mapped to it\n",
    "n = 0\n",
    "while n < 500:\n",
    "    print(chr(n), end='')\n",
    "    n+=1"
   ]
  },
  {
   "cell_type": "code",
   "execution_count": 1,
   "id": "c5a59f67-f4ac-45a0-9c56-c3c8a7270057",
   "metadata": {},
   "outputs": [
    {
     "name": "stdout",
     "output_type": "stream",
     "text": [
      "abc\n",
      "123\n"
     ]
    }
   ],
   "source": [
    "# Print something literal, just put quotes around it\n",
    "print('abc')\n",
    "print('123') #notice print will always put things on a new line. Unless you add end='' in it (like above)"
   ]
  },
  {
   "cell_type": "code",
   "execution_count": 2,
   "id": "200c606c-c385-4259-a86b-34aaf31616d7",
   "metadata": {},
   "outputs": [
    {
     "name": "stdout",
     "output_type": "stream",
     "text": [
      "Hi, that's my friend\n"
     ]
    }
   ],
   "source": [
    "#using ' in literal text\n",
    "print('Hi, that\\'s my friend') \n",
    "      # you have to add the \\ backslash so it doesn't try to end the string at the wrong ' "
   ]
  },
  {
   "cell_type": "code",
   "execution_count": 10,
   "id": "a0399aae-f10c-4586-986f-6e82176d07de",
   "metadata": {},
   "outputs": [
    {
     "name": "stdout",
     "output_type": "stream",
     "text": [
      "t\n",
      "co\n",
      "conlon\n"
     ]
    }
   ],
   "source": [
    "# Indexing / slicing\n",
    "s = 'tyler conlon'\n",
    "print(s[0])\n",
    "    # prints the character at that place\n",
    "print(s[6:8])\n",
    "    # prints between these two character numbers\n",
    "print(s[6:])\n",
    "    # prints from the character at the place, to the end"
   ]
  },
  {
   "cell_type": "code",
   "execution_count": 11,
   "id": "40c7cebe-c9c0-4a68-a8c1-fae320eea877",
   "metadata": {},
   "outputs": [
    {
     "name": "stdout",
     "output_type": "stream",
     "text": [
      "12\n"
     ]
    }
   ],
   "source": [
    "#find length of a string\n",
    "print(len(s))"
   ]
  },
  {
   "cell_type": "code",
   "execution_count": 20,
   "id": "5567c1a9-0ca8-4f88-95fa-f34fbe823d90",
   "metadata": {},
   "outputs": [
    {
     "ename": "SyntaxError",
     "evalue": "incomplete input (1981208351.py, line 2)",
     "output_type": "error",
     "traceback": [
      "\u001b[0;36m  Input \u001b[0;32mIn [20]\u001b[0;36m\u001b[0m\n\u001b[0;31m    for c in s:\u001b[0m\n\u001b[0m               ^\u001b[0m\n\u001b[0;31mSyntaxError\u001b[0m\u001b[0;31m:\u001b[0m incomplete input\n"
     ]
    }
   ],
   "source": [
    "# iterate ovr a strings chars\n",
    "for c in s:"
   ]
  },
  {
   "cell_type": "code",
   "execution_count": 25,
   "id": "cea3c04f-c04f-4245-8e0a-a8135c7406ce",
   "metadata": {},
   "outputs": [
    {
     "name": "stdout",
     "output_type": "stream",
     "text": [
      "mydatafile.csv\n"
     ]
    }
   ],
   "source": [
    "# concat\n",
    "fn = 'mydatafile'\n",
    "ext = 'csv'\n",
    "fullfn = fn + '.' + ext \n",
    "    # '+' concatenates\n",
    "print(fullfn)"
   ]
  },
  {
   "cell_type": "code",
   "execution_count": 26,
   "id": "49e174ba-733b-42c8-871f-c659741d01c5",
   "metadata": {},
   "outputs": [
    {
     "name": "stdout",
     "output_type": "stream",
     "text": [
      "mydatafile_500.csv\n"
     ]
    }
   ],
   "source": [
    "#formatting strings\n",
    "fullfn2 = f'{fn}_{n}.{ext}'\n",
    "print(fullfn2)"
   ]
  },
  {
   "cell_type": "code",
   "execution_count": 23,
   "id": "a8862794-b16d-4a68-b643-edfe3c73b69c",
   "metadata": {},
   "outputs": [
    {
     "name": "stdin",
     "output_type": "stream",
     "text": [
      "Enter a value.\n",
      " abc\n"
     ]
    }
   ],
   "source": [
    "# how to take user input\n",
    "a = input(\"Enter a value.\\n\")"
   ]
  },
  {
   "cell_type": "code",
   "execution_count": 27,
   "id": "124a2b72-72ea-4855-9cad-acb97e22523a",
   "metadata": {},
   "outputs": [
    {
     "name": "stdout",
     "output_type": "stream",
     "text": [
      "['mydatafile', 'csv']\n"
     ]
    }
   ],
   "source": [
    "#Use split to split string list\n",
    "values = fullfn.split('.')\n",
    "print (values)"
   ]
  },
  {
   "cell_type": "code",
   "execution_count": null,
   "id": "d125bcb8-96ca-4e1d-9317-e800226f07fa",
   "metadata": {},
   "outputs": [],
   "source": []
  }
 ],
 "metadata": {
  "kernelspec": {
   "display_name": "Python 3 (ipykernel)",
   "language": "python",
   "name": "python3"
  },
  "language_info": {
   "codemirror_mode": {
    "name": "ipython",
    "version": 3
   },
   "file_extension": ".py",
   "mimetype": "text/x-python",
   "name": "python",
   "nbconvert_exporter": "python",
   "pygments_lexer": "ipython3",
   "version": "3.10.6"
  }
 },
 "nbformat": 4,
 "nbformat_minor": 5
}
