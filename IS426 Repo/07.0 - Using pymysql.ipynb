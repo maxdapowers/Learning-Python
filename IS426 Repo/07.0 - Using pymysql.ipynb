{
 "cells": [
  {
   "cell_type": "code",
   "execution_count": null,
   "id": "instant-guatemala",
   "metadata": {},
   "outputs": [],
   "source": [
    "import pymysql\n",
    "import secrets\n",
    "\n",
    "conn = pymysql.connect(host=secrets.host, port=3306, user=secrets.user,\n",
    "                       passwd=secrets.passwd, db='is437', autocommit=True)\n",
    "\n",
    "cur = conn.cursor(pymysql.cursors.DictCursor)\n",
    "\n",
    "sql = '''DROP TABLE IF EXISTS `conlontj_test`;'''\n",
    "cur.execute(sql)\n",
    "\n",
    "\n",
    "sql = '''\n",
    "CREATE TABLE IF NOT EXISTS `conlontj_test` (\n",
    "  `id` int(5) NOT NULL AUTO_INCREMENT,\n",
    "  `device` varchar(10) NOT NULL,\n",
    "  `msg` varchar(20) NOT NULL,\n",
    "  PRIMARY KEY (`id`)\n",
    ") ENGINE=MyISAM DEFAULT CHARSET=latin1 AUTO_INCREMENT=1 ;\n",
    "'''\n",
    "cur.execute(sql)\n"
   ]
  },
  {
   "cell_type": "code",
   "execution_count": null,
   "id": "likely-fiber",
   "metadata": {},
   "outputs": [],
   "source": [
    "# How to INSERT data into a table\n",
    "#  The %s are called tokens.  They will be replaced with the real values  - why do we use these?\n",
    "#   When execute is called."
   ]
  },
  {
   "cell_type": "code",
   "execution_count": null,
   "id": "handy-athens",
   "metadata": {},
   "outputs": [],
   "source": [
    "sql = '''INSERT INTO `conlontj_test` (`device`, `msg`) VALUES (%s, %s);'''\n",
    "cur.execute(sql,('device_1','system start'))\n",
    "cur.execute(sql,('device_1','init'))"
   ]
  },
  {
   "cell_type": "code",
   "execution_count": null,
   "id": "floral-affiliation",
   "metadata": {},
   "outputs": [],
   "source": [
    "# Write a script which inserts wifi_list3.csv into a table in mysql "
   ]
  },
  {
   "cell_type": "code",
   "execution_count": null,
   "id": "valid-motivation",
   "metadata": {},
   "outputs": [],
   "source": [
    "# Streamlining scripts\n",
    "#    - How to get fieldnames\n",
    "#    - How to show progress\n",
    "#    - Show lastrowid\n",
    "#    - executemany()"
   ]
  },
  {
   "cell_type": "markdown",
   "id": "cooked-briefing",
   "metadata": {},
   "source": [
    "To know:\n",
    "* Be able to create, read, update and delete data from a mysql table in Python\n",
    "* Understand the role of the cursor and connection\n",
    "* Iterate over returned data in cursor\n",
    "* INSERT data from a simple csv into a table in mysql\n",
    "* Difference between a backtick and a single quote\n",
    "* Show the autoincrement id after a transaction \n",
    "* Be able to send multiple insert statements at once with executemany"
   ]
  },
  {
   "cell_type": "markdown",
   "id": "overall-gambling",
   "metadata": {},
   "source": [
    "What can go wrong:\n",
    "* SQL syntax errors\n",
    "* Connection errors\n",
    "* Issues with fieldnames if you don't use backticks"
   ]
  }
 ],
 "metadata": {
  "kernelspec": {
   "display_name": "Python 3 (ipykernel)",
   "language": "python",
   "name": "python3"
  },
  "language_info": {
   "codemirror_mode": {
    "name": "ipython",
    "version": 3
   },
   "file_extension": ".py",
   "mimetype": "text/x-python",
   "name": "python",
   "nbconvert_exporter": "python",
   "pygments_lexer": "ipython3",
   "version": "3.10.6"
  }
 },
 "nbformat": 4,
 "nbformat_minor": 5
}
