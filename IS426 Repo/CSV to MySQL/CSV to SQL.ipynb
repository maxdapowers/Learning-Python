{
 "cells": [
  {
   "cell_type": "code",
   "execution_count": 1,
   "id": "93333566-8c35-4152-88ab-a8b1659e2df1",
   "metadata": {},
   "outputs": [
    {
     "ename": "ModuleNotFoundError",
     "evalue": "No module named 'pymysql'",
     "output_type": "error",
     "traceback": [
      "\u001b[0;31m---------------------------------------------------------------------------\u001b[0m",
      "\u001b[0;31mModuleNotFoundError\u001b[0m                       Traceback (most recent call last)",
      "Input \u001b[0;32mIn [1]\u001b[0m, in \u001b[0;36m<cell line: 14>\u001b[0;34m()\u001b[0m\n\u001b[1;32m      1\u001b[0m \u001b[38;5;66;03m# * Create a Python Script which\u001b[39;00m\n\u001b[1;32m      2\u001b[0m \u001b[38;5;66;03m# * Creates the table with the proper data types (Drop the table first if it already exists)\u001b[39;00m\n\u001b[1;32m      3\u001b[0m \u001b[38;5;66;03m# * Inserts all the data from your file to the table.\u001b[39;00m\n\u001b[0;32m   (...)\u001b[0m\n\u001b[1;32m     10\u001b[0m \u001b[38;5;66;03m#* Creates an auto increment primary key in the table.\u001b[39;00m\n\u001b[1;32m     11\u001b[0m \u001b[38;5;66;03m#* Shows the total number of rows inserted before exiting.\u001b[39;00m\n\u001b[1;32m     13\u001b[0m \u001b[38;5;28;01mimport\u001b[39;00m \u001b[38;5;21;01mcsv\u001b[39;00m\n\u001b[0;32m---> 14\u001b[0m \u001b[38;5;28;01mimport\u001b[39;00m \u001b[38;5;21;01mpymysql\u001b[39;00m\n\u001b[1;32m     15\u001b[0m \u001b[38;5;28;01mimport\u001b[39;00m \u001b[38;5;21;01msecrets\u001b[39;00m\n\u001b[1;32m     17\u001b[0m \u001b[38;5;28;01mwith\u001b[39;00m \u001b[38;5;28mopen\u001b[39m(\u001b[38;5;124m'\u001b[39m\u001b[38;5;124mstudent_prediction.csv\u001b[39m\u001b[38;5;124m'\u001b[39m) \u001b[38;5;28;01mas\u001b[39;00m f:\n",
      "\u001b[0;31mModuleNotFoundError\u001b[0m: No module named 'pymysql'"
     ]
    }
   ],
   "source": [
    "# * Create a Python Script which\n",
    "# * Creates the table with the proper data types (Drop the table first if it already exists)\n",
    "# * Inserts all the data from your file to the table.\n",
    "# * Runs one query on the table showing the number of rows\n",
    "# * Make sure your table field names have been normalized to lower case and underscores.\n",
    "\n",
    "#Make sure your script:\n",
    "#* Loads *all* the data from the CSV to mysql\n",
    "#* Handles missing / blank data it a reasonable way (You can explain this during your demo)\n",
    "#* Creates an auto increment primary key in the table.\n",
    "#* Shows the total number of rows inserted before exiting.\n",
    "\n",
    "import csv\n",
    "import pymysql\n",
    "import secrets\n",
    "\n",
    "with open('student_prediction.csv') as f:\n",
    "    data = [{k: str(v) for k, v in row.items()}\n",
    "        for row in csv.DictReader(f, skipinitialspace=True)]\n",
    "    \n",
    "conn = pymysql.connect(host=secrets.host, port=3306, user=secrets.user,\n",
    "                       passwd=secrets.passwd, db='is426', autocommit=True)\n",
    "\n",
    "cur = conn.cursor(pymysql.cursors.DictCursor)\n",
    "\n",
    "sql = '''DROP TABLE IF EXISTS `powersms_jakirab_students`;'''\n",
    "cur.execute(sql)\n",
    "\n",
    "sql = '''CREATE TABLE IF NOT EXISTS `powersms_jakirab_ students` (\n",
    "  `studentid` int(11) NOT NULL AUTO_INCREMENT,\n",
    "  `age` int(11) NOT NULL,\n",
    "  `gender` int(11) NOT NULL,\n",
    "  `hs_type` int(11) NOT NULL,\n",
    "  `scholarship` int(11) NOT NULL,\n",
    "  `work` int(11) NOT NULL,\n",
    "  `activity` int(11) NOT NULL,\n",
    "  `partner` int(11) NOT NULL,\n",
    "  `salary` int(11) NOT NULL,\n",
    "  `transport` int(11) NOT NULL,\n",
    "  `living` int(11) NOT NULL,\n",
    "  `mother_edu` int(11) NOT NULL,\n",
    "  `father_edu` int(11) NOT NULL,\n",
    "  `_siblings` int(11) NOT NULL,\n",
    "  `parental_status` int(11) NOT NULL,\n",
    "  `mother_job` int(11) NOT NULL,\n",
    "  `father_job` int(11) NOT NULL,\n",
    "  `study_hrs` int(11) NOT NULL,\n",
    "  `read_freq` int(11) NOT NULL,\n",
    "  `read_freq_sci` int(11) NOT NULL,\n",
    "  `attend_dept` int(11) NOT NULL,\n",
    "  `impact` int(11) NOT NULL,\n",
    "  `attend` int(11) NOT NULL,\n",
    "  `prep_study` int(11) NOT NULL,\n",
    "  `prep_exam` int(11) NOT NULL,\n",
    "  `notes` int(11) NOT NULL,\n",
    "  `listens` int(11) NOT NULL,\n",
    "  `likes_discuss` int(11) NOT NULL,\n",
    "  `classroom` int(11) NOT NULL,\n",
    "  `cuml_gpa` int(11) NOT NULL,\n",
    "  `exp_gpa` int(11) NOT NULL,\n",
    "  `course_id` int(11) NOT NULL,\n",
    "  `grade` int(11) NOT NULL,\n",
    "  PRIMARY KEY (`studentid`)\n",
    ") ENGINE=InnoDB DEFAULT CHARSET=latin1 AUTO_INCREMENT=1 ;'''\n",
    "\n",
    "cur.execute(sql)\n",
    "\n",
    "sql = '''INSERT INTO `powersms_jakirab_students` (`studentid`, `age`) VALUES (%s, %s);'''\n",
    "cur.execute(sql,('studentid','age'))"
   ]
  },
  {
   "cell_type": "code",
   "execution_count": null,
   "id": "16b5328f-02c4-4f56-a663-21853138dad0",
   "metadata": {},
   "outputs": [],
   "source": []
  }
 ],
 "metadata": {
  "kernelspec": {
   "display_name": "Python 3 (ipykernel)",
   "language": "python",
   "name": "python3"
  },
  "language_info": {
   "codemirror_mode": {
    "name": "ipython",
    "version": 3
   },
   "file_extension": ".py",
   "mimetype": "text/x-python",
   "name": "python",
   "nbconvert_exporter": "python",
   "pygments_lexer": "ipython3",
   "version": "3.10.6"
  }
 },
 "nbformat": 4,
 "nbformat_minor": 5
}
