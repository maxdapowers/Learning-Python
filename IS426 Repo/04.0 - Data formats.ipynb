{
 "cells": [
  {
   "cell_type": "code",
   "execution_count": null,
   "id": "systematic-mission",
   "metadata": {},
   "outputs": [],
   "source": [
    "# File data can be thought of as a single string.  The proecess of making sense \n",
    "#   of that string is parsing.  For example the data below can be represented \n",
    "#   in many physical ways :\n",
    "'''\n",
    "user,email,office\n",
    "Tom,t@company.com,123\n",
    "Jim,j@company.com,124\n",
    "Kim,k@company.com,125\n",
    "\n",
    "office-user-email\n",
    "123-Tom-t@company.com\n",
    "124-Jim-j@company.com\n",
    "125-Kim-k@company.com\n",
    "\n",
    "123,Tom,t@company.com|124,Jim,j@company.com|125,Kim,k@company.com\n",
    "\n",
    "'''\n",
    "# But this data always has the same logical organization."
   ]
  },
  {
   "cell_type": "code",
   "execution_count": null,
   "id": "manufactured-engineering",
   "metadata": {},
   "outputs": [],
   "source": [
    "# Identify delimiters in the formats above"
   ]
  },
  {
   "cell_type": "code",
   "execution_count": null,
   "id": "ignored-enhancement",
   "metadata": {},
   "outputs": [],
   "source": [
    "# Look at data/wifi_list.csv data in text editor \n"
   ]
  },
  {
   "cell_type": "code",
   "execution_count": null,
   "id": "south-vacuum",
   "metadata": {},
   "outputs": [],
   "source": [
    "# read in file and parse as a list of dictionaries\n",
    "# Why this format? # flat table data\n",
    "# Memory vs. disk"
   ]
  },
  {
   "cell_type": "code",
   "execution_count": 1,
   "id": "sunset-above",
   "metadata": {},
   "outputs": [],
   "source": [
    "import csv\n",
    "\n",
    "with open('data/wifi_list.csv') as f:\n",
    "    data = [{k: str(v) for k, v in row.items()}\n",
    "        for row in csv.DictReader(f, skipinitialspace=True)]"
   ]
  },
  {
   "cell_type": "code",
   "execution_count": null,
   "id": "golden-forward",
   "metadata": {},
   "outputs": [],
   "source": [
    "# Iterate over data rows"
   ]
  },
  {
   "cell_type": "code",
   "execution_count": null,
   "id": "dedicated-smooth",
   "metadata": {},
   "outputs": [],
   "source": [
    "# Count the number of ssids containing the word 'netgear'"
   ]
  },
  {
   "cell_type": "code",
   "execution_count": null,
   "id": "lucky-house",
   "metadata": {},
   "outputs": [],
   "source": [
    "# Create and print a list of all the ssids containing 'cph'  - case insensitive"
   ]
  },
  {
   "cell_type": "code",
   "execution_count": null,
   "id": "active-cedar",
   "metadata": {},
   "outputs": [],
   "source": [
    "# Do datetime conversion in loop as part of filter"
   ]
  },
  {
   "cell_type": "code",
   "execution_count": null,
   "id": "vulnerable-colonial",
   "metadata": {},
   "outputs": [],
   "source": [
    "# Inspect the file data/datafiles/datalog.txt.20180721_184322  What is this format?"
   ]
  },
  {
   "cell_type": "markdown",
   "id": "atlantic-architect",
   "metadata": {},
   "source": [
    "To Know:\n",
    "* Logical vs physical representation\n",
    "* flat vs. nested data\n",
    "* Memory vs. disk\n",
    "* Iterate over a list of dictionaries \n",
    "* Write if conditions to filter data in a loop\n"
   ]
  },
  {
   "cell_type": "code",
   "execution_count": null,
   "id": "cardiac-state",
   "metadata": {},
   "outputs": [],
   "source": []
  }
 ],
 "metadata": {
  "kernelspec": {
   "display_name": "Python 3 (ipykernel)",
   "language": "python",
   "name": "python3"
  },
  "language_info": {
   "codemirror_mode": {
    "name": "ipython",
    "version": 3
   },
   "file_extension": ".py",
   "mimetype": "text/x-python",
   "name": "python",
   "nbconvert_exporter": "python",
   "pygments_lexer": "ipython3",
   "version": "3.10.6"
  }
 },
 "nbformat": 4,
 "nbformat_minor": 5
}
