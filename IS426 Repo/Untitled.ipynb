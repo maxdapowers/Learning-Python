{
 "cells": [
  {
   "cell_type": "code",
   "execution_count": 5,
   "id": "80671eab-9853-45d4-9063-64786a7d727a",
   "metadata": {},
   "outputs": [
    {
     "name": "stdin",
     "output_type": "stream",
     "text": [
      "Enter Zip 122222\n"
     ]
    },
    {
     "name": "stdout",
     "output_type": "stream",
     "text": [
      "Invalid Zip\n"
     ]
    }
   ],
   "source": [
    "# create a script which allows the user to type a \n",
    "# #    zipcode and returns the current condition and temperture in f\n",
    "\n",
    "import requests, json\n",
    "a = input(\"Enter Zip\")\n",
    "url = f\"https://api.openweathermap.org/data/2.5/weather?zip={a},us&appid=a6962678a5cba51e8db12b46bc87a867\"\n",
    "r = requests.get(url) #calls the api. Type is \"response object\"\n",
    "data = json.loads(r.text) #puts the text in the variable 'data' - json.loads() will convert json object to py dictionary (kinda like the json viewer)\n",
    "if str(data['cod']) == '200': #if condition that checks is the api gave a valid response from the input (zip code)\n",
    "    print(data['main']['temp']) # for finding the node path, use the json viewer\n",
    "    for condition in data['weather']: #because the condition is in a list, it needs to be itterated through to find the specific time (instance) of it\n",
    "        print(condition['main'])\n",
    "else: # if the zip code is invalid by the api, alert the user\n",
    "    print(\"Invalid Zip\")"
   ]
  },
  {
   "cell_type": "code",
   "execution_count": 10,
   "id": "7a0916db-0019-4cce-997c-ee80afe1f975",
   "metadata": {},
   "outputs": [
    {
     "name": "stdout",
     "output_type": "stream",
     "text": [
      "{'status': {'timestamp': '2022-11-02T14:37:51.905Z', 'error_code': 0, 'error_message': None, 'elapsed': 1, 'credit_count': 1, 'notice': None}, 'data': [{'id': 6186, 'name': '8qqpnevz39', 'symbol': 'ykg8psle5m', 'slug': 'u22g5mcs7n', 'cmc_rank': 286, 'num_market_pairs': 7661, 'circulating_supply': 950, 'total_supply': 4758, 'max_supply': 6410, 'last_updated': '2022-11-02T14:37:51.904Z', 'date_added': '2022-11-02T14:37:51.904Z', 'tags': ['k6vvdfmosz', 'jlqsqd2uix8', 'ckxrjmoot8b', 'lxmohd40xyb', 'x4cfx12stea', 'magurzbfo0o', 'mupkchx724d', '3aegi6d59xw', 'sm5xipwjm', 'wc8e8kexer'], 'platform': None, 'self_reported_circulating_supply': None, 'self_reported_market_cap': None, 'quote': {'USD': {'price': 0.6880298399614644, 'volume_24h': 8837, 'volume_change_24h': 0.066189081835474, 'percent_change_1h': 0.22884497436013684, 'percent_change_24h': 0.1514091550607488, 'percent_change_7d': 0.12607028897309513, 'market_cap': 0.2677585194164014, 'market_cap_dominance': 2836, 'fully_diluted_market_cap': 0.3839210785679661, 'last_updated': '2022-11-02T14:37:51.904Z'}}}, {'id': 1891, 'name': 'wvrggqg18ln', 'symbol': 'rwwpj007ena', 'slug': 'o618uvsdymr', 'cmc_rank': 1221, 'num_market_pairs': 4768, 'circulating_supply': 456, 'total_supply': 9727, 'max_supply': 5289, 'last_updated': '2022-11-02T14:37:51.904Z', 'date_added': '2022-11-02T14:37:51.904Z', 'tags': ['17y1q9kpxff', 'mexpc1ntjq8', '0oyy7rcu8uc', 'wly63b935y', 'u8yx0oj7h3', 'se1axmfjb9', 'zcy3a5kam8s', 'eyljcqmc5a5', 'k6z5v6v8b8q', 'lffdbbz1hxo'], 'platform': None, 'self_reported_circulating_supply': None, 'self_reported_market_cap': None, 'quote': {'USD': {'price': 0.6377359278165105, 'volume_24h': 7191, 'volume_change_24h': 0.7648092324737827, 'percent_change_1h': 0.032712274956591125, 'percent_change_24h': 0.9641557025166838, 'percent_change_7d': 0.9240276897332347, 'market_cap': 0.14435997543335466, 'market_cap_dominance': 4578, 'fully_diluted_market_cap': 0.09748891423660222, 'last_updated': '2022-11-02T14:37:51.904Z'}}}, {'id': 9883, 'name': 'o60wa0i07sb', 'symbol': 'xqmrw17e1d', 'slug': 'qaqjgzu3qpi', 'cmc_rank': 8212, 'num_market_pairs': 9436, 'circulating_supply': 7090, 'total_supply': 9150, 'max_supply': 5319, 'last_updated': '2022-11-02T14:37:51.904Z', 'date_added': '2022-11-02T14:37:51.904Z', 'tags': ['q75lt11j5vk', 'qw5l3925ij', 'n9nwd18mlsp', 'qghyfa7js19', 'g7aihwzgi47', 'zd8t6g282iq', 'y1sqvots1jh', 'vhjfaljxq28', '172p6y7whk2', 'qvhwascz1x'], 'platform': None, 'self_reported_circulating_supply': None, 'self_reported_market_cap': None, 'quote': {'USD': {'price': 0.19777351862177595, 'volume_24h': 9479, 'volume_change_24h': 0.19437205129374147, 'percent_change_1h': 0.06117341516134345, 'percent_change_24h': 0.38683275758414437, 'percent_change_7d': 0.6380704417657976, 'market_cap': 0.8084291288009469, 'market_cap_dominance': 6266, 'fully_diluted_market_cap': 0.7278327740777633, 'last_updated': '2022-11-02T14:37:51.904Z'}}}, {'id': 3869, 'name': 'vtf0kb8xgjk', 'symbol': '61yxqvo0pv5', 'slug': 'ao9k6zet9yl', 'cmc_rank': 3170, 'num_market_pairs': 3534, 'circulating_supply': 1833, 'total_supply': 3207, 'max_supply': 1697, 'last_updated': '2022-11-02T14:37:51.904Z', 'date_added': '2022-11-02T14:37:51.904Z', 'tags': ['idrwqd9jrq', '3loip2eb8zl', 'zgqcikfx47d', '9s71509iknl', 'exeypyfs238', 'o8h3mheiy9g', 'q8167s3ejgd', 'xl0hfz7jxyg', '93hzbwyu1f', 'ok3h3y1ptlm'], 'platform': None, 'self_reported_circulating_supply': None, 'self_reported_market_cap': None, 'quote': {'USD': {'price': 0.3343714156857549, 'volume_24h': 8256, 'volume_change_24h': 0.7033015726190688, 'percent_change_1h': 0.6405048094145103, 'percent_change_24h': 0.34800294735258763, 'percent_change_7d': 0.6998818264213389, 'market_cap': 0.5810895557514311, 'market_cap_dominance': 1189, 'fully_diluted_market_cap': 0.9702724752985235, 'last_updated': '2022-11-02T14:37:51.904Z'}}}, {'id': 1238, 'name': '42ybylwxv9w', 'symbol': 'xf97mbml5k', 'slug': 'viq2gyy8y39', 'cmc_rank': 1540, 'num_market_pairs': 4987, 'circulating_supply': 86, 'total_supply': 493, 'max_supply': 5048, 'last_updated': '2022-11-02T14:37:51.904Z', 'date_added': '2022-11-02T14:37:51.904Z', 'tags': ['403rcspcm33', 'mmnxgsuhdi', 'ortqf0q65b8', '96hi57n4dwj', 'dsf9co84zhu', '2a3dn0cg1hf', 'x29jkauuof', '4lceuzg1cc2', 'n055svf7xnk', '7plzj7lg8el'], 'platform': None, 'self_reported_circulating_supply': None, 'self_reported_market_cap': None, 'quote': {'USD': {'price': 0.8860645851057425, 'volume_24h': 6070, 'volume_change_24h': 0.3099079387630246, 'percent_change_1h': 0.07511994571448666, 'percent_change_24h': 0.7063740383490256, 'percent_change_7d': 0.6959588629068609, 'market_cap': 0.386212514772299, 'market_cap_dominance': 4794, 'fully_diluted_market_cap': 0.007128608280492443, 'last_updated': '2022-11-02T14:37:51.904Z'}}}, {'id': 6442, 'name': '1vq963rn87s', 'symbol': 'pjc8uifong', 'slug': '201r9b429ia', 'cmc_rank': 2301, 'num_market_pairs': 974, 'circulating_supply': 7549, 'total_supply': 7056, 'max_supply': 4138, 'last_updated': '2022-11-02T14:37:51.904Z', 'date_added': '2022-11-02T14:37:51.904Z', 'tags': ['6mc76c1fzgw', '5spw6f26xd4', 'tsfaym01nus', 'bp1r6w9rxer', '5dnw0hxej79', 'npmtjyf4uq', 's4k4qpj0ylc', 'hyr479w7jhf', 'ss1opraauwd', '303b4pnxev6'], 'platform': None, 'self_reported_circulating_supply': None, 'self_reported_market_cap': None, 'quote': {'USD': {'price': 0.1114316906203554, 'volume_24h': 1559, 'volume_change_24h': 0.5223763877685106, 'percent_change_1h': 0.46532605090137835, 'percent_change_24h': 0.783490923333914, 'percent_change_7d': 0.07013042945079517, 'market_cap': 0.7193302368989929, 'market_cap_dominance': 3436, 'fully_diluted_market_cap': 0.7331053412012836, 'last_updated': '2022-11-02T14:37:51.904Z'}}}, {'id': 1150, 'name': 'ye9mdh61oqk', 'symbol': 'bgjarctbp7b', 'slug': 'gutqs21alec', 'cmc_rank': 4860, 'num_market_pairs': 7656, 'circulating_supply': 1544, 'total_supply': 2072, 'max_supply': 2282, 'last_updated': '2022-11-02T14:37:51.905Z', 'date_added': '2022-11-02T14:37:51.905Z', 'tags': ['01syndw3n7o5', 'qg1wqx7bfcb', 'wfmctdaq6n8', '7g1iagoo7gc', '98vxpeslfaa', 'rht469y397n', 'sx1crylji3', 'msph6pgkk6i', '5dut809fv9c', 'y0kc9ud01k'], 'platform': None, 'self_reported_circulating_supply': None, 'self_reported_market_cap': None, 'quote': {'USD': {'price': 0.1748921849877858, 'volume_24h': 6451, 'volume_change_24h': 0.6294206570646674, 'percent_change_1h': 0.09164584588397884, 'percent_change_24h': 0.004551257701125078, 'percent_change_7d': 0.9423075799846121, 'market_cap': 0.9555947802454099, 'market_cap_dominance': 2205, 'fully_diluted_market_cap': 0.4840656180091363, 'last_updated': '2022-11-02T14:37:51.905Z'}}}, {'id': 8193, 'name': 'uievz65872', 'symbol': 'rk1ag14ajqt', 'slug': '07g6icnufeqm', 'cmc_rank': 8150, 'num_market_pairs': 246, 'circulating_supply': 4780, 'total_supply': 9407, 'max_supply': 3921, 'last_updated': '2022-11-02T14:37:51.905Z', 'date_added': '2022-11-02T14:37:51.905Z', 'tags': ['kypgz8e0ko', 'douo4m89w1j', '672atsukigf', 'x4vjzpjz0lf', 'jrnzbkisv9', 'ggydr4cv1h', '2w5w8sqeber', '4jlr72q7bn', 'pnz0wddi1j', 'p35e6s7p86q'], 'platform': None, 'self_reported_circulating_supply': None, 'self_reported_market_cap': None, 'quote': {'USD': {'price': 0.9185573979114763, 'volume_24h': 2836, 'volume_change_24h': 0.47566614787947614, 'percent_change_1h': 0.002190613106401784, 'percent_change_24h': 0.8997731949737349, 'percent_change_7d': 0.9485209081507131, 'market_cap': 0.8555431140141034, 'market_cap_dominance': 3627, 'fully_diluted_market_cap': 0.3429865613935814, 'last_updated': '2022-11-02T14:37:51.905Z'}}}, {'id': 3859, 'name': 'no60vp3769g', 'symbol': '106l90ouwbek', 'slug': '77xn9xgzu6e', 'cmc_rank': 46, 'num_market_pairs': 6671, 'circulating_supply': 2559, 'total_supply': 8959, 'max_supply': 1536, 'last_updated': '2022-11-02T14:37:51.905Z', 'date_added': '2022-11-02T14:37:51.905Z', 'tags': ['kc6six4pcl', 'qv73l4atcg', 'f2oji8x8h1n', 'l7ms2qgzlql', 'wx4r5r9ypb', 'sle0mpxbp8c', '76we97eeofn', 'tqa8wd9iy0m', 'cjkufic01b', '6fc2a37t6tx'], 'platform': None, 'self_reported_circulating_supply': None, 'self_reported_market_cap': None, 'quote': {'USD': {'price': 0.6476931354523843, 'volume_24h': 6241, 'volume_change_24h': 0.18043471323992222, 'percent_change_1h': 0.41735921573424584, 'percent_change_24h': 0.6021665180146718, 'percent_change_7d': 0.3254036473559201, 'market_cap': 0.3613653881041574, 'market_cap_dominance': 4310, 'fully_diluted_market_cap': 0.8291251541022242, 'last_updated': '2022-11-02T14:37:51.905Z'}}}, {'id': 3176, 'name': 'ajf5u2i72dm', 'symbol': 'lkwgpz6bjm', 'slug': '0cfvqziefk38', 'cmc_rank': 5473, 'num_market_pairs': 6469, 'circulating_supply': 7926, 'total_supply': 5628, 'max_supply': 200, 'last_updated': '2022-11-02T14:37:51.905Z', 'date_added': '2022-11-02T14:37:51.905Z', 'tags': ['vdbxflylmy', 'rzrhwe1souq', 'n020jf5dw39', 'vnb9vchr8z', 'mzcaxbejqfs', '5klzin7fhs', 'az34o200555', '7pxxy91rxb6', 'w05yoaf42z9', 'g9eruabeowk'], 'platform': None, 'self_reported_circulating_supply': None, 'self_reported_market_cap': None, 'quote': {'USD': {'price': 0.6173505849412235, 'volume_24h': 4044, 'volume_change_24h': 0.3234750829894928, 'percent_change_1h': 0.0806590476670741, 'percent_change_24h': 0.9416006465431741, 'percent_change_7d': 0.6711206801197516, 'market_cap': 0.22099296856503137, 'market_cap_dominance': 9621, 'fully_diluted_market_cap': 0.9215606633927431, 'last_updated': '2022-11-02T14:37:51.905Z'}}}]}\n"
     ]
    }
   ],
   "source": [
    "from requests import Request, Session\n",
    "from requests.exceptions import ConnectionError, Timeout, TooManyRedirects\n",
    "import json\n",
    "\n",
    "url = 'https://sandbox-api.coinmarketcap.com/v1/cryptocurrency/listings/latest'\n",
    "parameters = {\n",
    "  'start':'1',\n",
    "  'limit':'5000',\n",
    "  'convert':'USD'\n",
    "}\n",
    "headers = {\n",
    "  'Accepts': 'application/json',\n",
    "  'X-CMC_PRO_API_KEY': '1ab2d45a-ef90-4553-8e30-e2f0f2fbfeb3',\n",
    "}\n",
    "\n",
    "session = Session()\n",
    "session.headers.update(headers)\n",
    "\n",
    "try:\n",
    "  response = session.get(url, params=parameters)\n",
    "  data = json.loads(response.text)\n",
    "  print(data)\n",
    "except (ConnectionError, Timeout, TooManyRedirects) as e:\n",
    "  print(e)"
   ]
  },
  {
   "cell_type": "code",
   "execution_count": null,
   "id": "7ac1d16f-5942-4c96-a6f9-ce60ae64a9f5",
   "metadata": {},
   "outputs": [],
   "source": []
  }
 ],
 "metadata": {
  "kernelspec": {
   "display_name": "Python 3 (ipykernel)",
   "language": "python",
   "name": "python3"
  },
  "language_info": {
   "codemirror_mode": {
    "name": "ipython",
    "version": 3
   },
   "file_extension": ".py",
   "mimetype": "text/x-python",
   "name": "python",
   "nbconvert_exporter": "python",
   "pygments_lexer": "ipython3",
   "version": "3.10.6"
  }
 },
 "nbformat": 4,
 "nbformat_minor": 5
}
