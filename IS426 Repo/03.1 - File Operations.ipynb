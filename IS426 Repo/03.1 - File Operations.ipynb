{
 "cells": [
  {
   "cell_type": "code",
   "execution_count": 18,
   "id": "bdbabfc5-3937-47d2-a1e4-06fbf49f7a6c",
   "metadata": {},
   "outputs": [
    {
     "data": {
      "text/plain": [
       "'\\n-Assignment from last week\\n-Inspect a few files with text editor text vs binary\\n'"
      ]
     },
     "execution_count": 18,
     "metadata": {},
     "output_type": "execute_result"
    }
   ],
   "source": [
    "'''\n",
    "-Assignment from last week\n",
    "-Inspect a few files with text editor text vs binary\n",
    "'''"
   ]
  },
  {
   "cell_type": "code",
   "execution_count": 2,
   "id": "alien-breakfast",
   "metadata": {},
   "outputs": [
    {
     "ename": "FileNotFoundError",
     "evalue": "[Errno 2] No such file or directory: 'data/sql.txt'",
     "output_type": "error",
     "traceback": [
      "\u001b[0;31m---------------------------------------------------------------------------\u001b[0m",
      "\u001b[0;31mFileNotFoundError\u001b[0m                         Traceback (most recent call last)",
      "Input \u001b[0;32mIn [2]\u001b[0m, in \u001b[0;36m<cell line: 5>\u001b[0;34m()\u001b[0m\n\u001b[1;32m      1\u001b[0m \u001b[38;5;66;03m# Most raw data comes from files\u001b[39;00m\n\u001b[1;32m      2\u001b[0m \u001b[38;5;66;03m# Save the string below to a file called sql.txt\u001b[39;00m\n\u001b[1;32m      3\u001b[0m \u001b[38;5;66;03m# INSERT INTO `mytable` (`id`,`node`) VALUES ('15','14b');\u001b[39;00m\n\u001b[0;32m----> 5\u001b[0m f \u001b[38;5;241m=\u001b[39m \u001b[38;5;28;43mopen\u001b[39;49m\u001b[43m(\u001b[49m\u001b[38;5;124;43m\"\u001b[39;49m\u001b[38;5;124;43mdata/sql.txt\u001b[39;49m\u001b[38;5;124;43m\"\u001b[39;49m\u001b[43m,\u001b[49m\u001b[43m \u001b[49m\u001b[38;5;124;43m\"\u001b[39;49m\u001b[38;5;124;43mw\u001b[39;49m\u001b[38;5;124;43m\"\u001b[39;49m\u001b[43m)\u001b[49m\n\u001b[1;32m      6\u001b[0m f\u001b[38;5;241m.\u001b[39mwrite(\u001b[38;5;124m\"\u001b[39m\u001b[38;5;124mINSERT INTO `mytable` (`id`,`node`) VALUES (\u001b[39m\u001b[38;5;124m'\u001b[39m\u001b[38;5;124m15\u001b[39m\u001b[38;5;124m'\u001b[39m\u001b[38;5;124m,\u001b[39m\u001b[38;5;124m'\u001b[39m\u001b[38;5;124m14b\u001b[39m\u001b[38;5;124m'\u001b[39m\u001b[38;5;124m);\u001b[39m\u001b[38;5;124m\"\u001b[39m)\n\u001b[1;32m      7\u001b[0m f\u001b[38;5;241m.\u001b[39mclose()\n",
      "\u001b[0;31mFileNotFoundError\u001b[0m: [Errno 2] No such file or directory: 'data/sql.txt'"
     ]
    }
   ],
   "source": [
    "\n",
    "# Most raw data comes from files\n",
    "# Save the string below to a file called sql.txt\n",
    "# INSERT INTO `mytable` (`id`,`node`) VALUES ('15','14b');\n",
    "\n",
    "f = open(\"data/sql.txt\", \"w\")\n",
    "f.write(\"INSERT INTO `mytable` (`id`,`node`) VALUES ('15','14b');\")\n",
    "f.close()"
   ]
  },
  {
   "cell_type": "code",
   "execution_count": 2,
   "id": "characteristic-planner",
   "metadata": {},
   "outputs": [],
   "source": [
    "from pathlib import Path\n",
    "Path(\"mydata/1/2/3\").mkdir(parents=True, exist_ok=True) #creates a directory (or multiple)\n",
    "# save string below to file in directory metars/kptd_221715Z.txt\n",
    "# KPTD 221715Z AUTO 28010KT 10SM SCT022 BKN038 OVC046 21/19 A2992 RMK AO2"
   ]
  },
  {
   "cell_type": "code",
   "execution_count": 5,
   "id": "adb79e5e-8497-496d-b79b-857d37e5c926",
   "metadata": {},
   "outputs": [],
   "source": [
    "d = \"metars2\"\n",
    "Path(d).mkdir(parents=True, exist_ok=True) \n",
    "f = open(f\"{d}/kptd_221715Z.txt\", \"w\")\n",
    "f.write(\"KPTD 221715Z AUTO 28010KT 10SM SCT022 BKN038 OVC046 21/19 A2992 RMK AO2\")\n",
    "f.close()"
   ]
  },
  {
   "cell_type": "code",
   "execution_count": 11,
   "id": "domestic-monitoring",
   "metadata": {},
   "outputs": [],
   "source": [
    "# joining paths with os.path.join()\n",
    "# use this on the example above\n",
    "\n",
    "#all this builds the filepath\n",
    "import os\n",
    "d = \"metars3/\"\n",
    "filename = \"kptd_221715Z.txt\"\n",
    "Path(d).mkdir(parents=True, exist_ok=True)\n",
    "fp = os.path.join(d, filename) #creates a filepath, works out all the joins and / for you\n",
    "\n",
    "f = open(fp, \"w\")\n",
    "f.write(\"KPTD 221715Z AUTO 28010KT 10SM SCT022 BKN038 OVC046 21/19 A2992 RMK AO2\")\n",
    "f.close()"
   ]
  },
  {
   "cell_type": "code",
   "execution_count": 4,
   "id": "noticed-traveler",
   "metadata": {},
   "outputs": [],
   "source": [
    "# how to use glob to list a directory\n",
    "import glob\n",
    "for file in glob.glob(\"data/datafiles/*.txt.*\"):\n",
    "    print(file)"
   ]
  },
  {
   "cell_type": "code",
   "execution_count": 10,
   "id": "respiratory-meaning",
   "metadata": {},
   "outputs": [],
   "source": [
    "# Print a list of dates which have valid datafiles.  Print the dates in the format:\n",
    "# 02-15-18\n",
    "\n",
    "import glob, datetime\n",
    "for file in glob.glob(\"data/datafiles/*.txt.*\"):\n",
    "    dts = file.split('.')[2] #splits and creates a date time string (dts) from the date part of each filepath\n",
    "    dto = None # any time you use a \"try\", you need an empty object as a placeholder first\n",
    "    try: \n",
    "        dto = datetime.datetime.strptime(dts,'%Y%m%d-%H%M%S') #parses from the set format date time \n",
    "    except Exception as e:\n",
    "        print(e)\n",
    "    if dto is not None:\n",
    "        # print(dto)\n",
    "        ds = dto.strftime('%d-%m-%y') # date string (no times)\n",
    "        print(ds)"
   ]
  },
  {
   "cell_type": "code",
   "execution_count": 1,
   "id": "d1c26b6c",
   "metadata": {},
   "outputs": [
    {
     "name": "stdin",
     "output_type": "stream",
     "text": [
      "Filename:  metars\n"
     ]
    }
   ],
   "source": [
    "#Students:\n",
    "#Create a script which allows the user to enter part of a filename.  \n",
    "# The script should search through the data/ directory and print any\n",
    "# files which match that name\n",
    "\n",
    "import glob\n",
    "import os\n",
    "\n",
    "#Ask for chunk of filename\n",
    "fchunk = input(\"Filename: \")\n",
    "\n",
    "for file in glob.glob(\"./data/*.*\"):\n",
    "    fname = file.split('.')[0]\n",
    "    found = None\n",
    "    try:\n",
    "        found = fname.find(fchunk)\n",
    "        print(found)\n",
    "        if found is not None:\n",
    "            print(fchunk, \"Found\")\n",
    "            break\n",
    "    except Exception as e:\n",
    "        print(\"none\")"
   ]
  },
  {
   "cell_type": "code",
   "execution_count": 13,
   "id": "worthy-latvia",
   "metadata": {},
   "outputs": [
    {
     "name": "stdout",
     "output_type": "stream",
     "text": [
      "['03-22-19', '03-23-19', '03-24-19', '03-25-19', '03-26-19', '03-27-19', '03-28-19', '03-29-19', '03-30-19', '03-31-19', '04-01-19', '04-02-19', '04-03-19', '04-04-19', '04-05-19', '04-06-19', '04-07-19', '04-08-19', '04-09-19']\n"
     ]
    }
   ],
   "source": [
    "#extra: print a list of all dates in 2018 with a * next to ones \n",
    "#   which have a valid datafile\n",
    "# Hint: use deltatime: \n",
    "import datetime\n",
    "\n",
    "sdate = datetime.date(2019,3,22)   # start date\n",
    "edate = datetime.date(2019,4,9)   # end date\n",
    "date_modified=sdate\n",
    "dl = []\n",
    "textdate = datetime.datetime.strftime(date_modified,'%m-%d-%y')\n",
    "dl.append(textdate)\n",
    "\n",
    "while date_modified < edate:\n",
    "    date_modified += datetime.timedelta(days=1)\n",
    "    textdate = datetime.datetime.strftime(date_modified,'%m-%d-%y')\n",
    "    dl.append(textdate)\n",
    "print(dl)"
   ]
  },
  {
   "cell_type": "code",
   "execution_count": null,
   "id": "operating-cameroon",
   "metadata": {},
   "outputs": [],
   "source": []
  },
  {
   "cell_type": "code",
   "execution_count": 14,
   "id": "wanted-clause",
   "metadata": {},
   "outputs": [],
   "source": [
    "#  Assignment:\n",
    "# Read data from the file data/metars.txt.  \n",
    "#   Save the data into files based on the location and datetime\n",
    "#   metars/kptd/2217/55Z.txt"
   ]
  },
  {
   "cell_type": "markdown",
   "id": "micro-copyright",
   "metadata": {},
   "source": [
    "To Know:\n",
    "* Recognize absolute and relative paths\n",
    "* Be able to interpret paths\n",
    "* Write a string to a file\n",
    "* Clear a file\n",
    "* Append to a file\n",
    "* Read the file contents into a string variable\n",
    "* Build file path strings with os.path.join()\n",
    "* Get list of files in a directory\n",
    "\n"
   ]
  },
  {
   "cell_type": "markdown",
   "id": "certain-ethnic",
   "metadata": {},
   "source": [
    "What can go wrong:\n",
    "* File or path does not exist errors - be able to debug these \n",
    "* No contents in file\n",
    "* File not in correct location after writing"
   ]
  },
  {
   "cell_type": "code",
   "execution_count": null,
   "id": "preceding-privacy",
   "metadata": {},
   "outputs": [],
   "source": []
  }
 ],
 "metadata": {
  "kernelspec": {
   "display_name": "Python 3 (ipykernel)",
   "language": "python",
   "name": "python3"
  },
  "language_info": {
   "codemirror_mode": {
    "name": "ipython",
    "version": 3
   },
   "file_extension": ".py",
   "mimetype": "text/x-python",
   "name": "python",
   "nbconvert_exporter": "python",
   "pygments_lexer": "ipython3",
   "version": "3.10.6"
  },
  "vscode": {
   "interpreter": {
    "hash": "2d4d69e597880b9b60eb0be4f89ec7c27c2bb88050820adbecd4ead6dbb8e32e"
   }
  }
 },
 "nbformat": 4,
 "nbformat_minor": 5
}
