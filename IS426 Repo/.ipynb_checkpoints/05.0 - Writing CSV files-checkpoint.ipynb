{
 "cells": [
  {
   "cell_type": "code",
   "execution_count": 7,
   "id": "conservative-permit",
   "metadata": {},
   "outputs": [
    {
     "name": "stdout",
     "output_type": "stream",
     "text": [
      "dict_keys(['MAC', 'SSID'])\n"
     ]
    }
   ],
   "source": [
    "# Write data to csv using the dictionary writer all at once\n",
    "\n",
    "import csv\n",
    "\n",
    "data = [{'MAC': 'e0:91:f5:de:fa:4f', 'SSID': 'NETGEAR-5G'}, \n",
    "        {'MAC': 'e2:91:f5:de:fa:51', 'SSID': 'bonesaw_Guest'}, \n",
    "        {'MAC': 'e0:91:f5:de:fa:50', 'SSID': 'BONESAW_HQ'},\n",
    "        {'MAC': 'e0:91:f5:5e:34:60', 'SSID': 'Happy_Clam'}]\n",
    "\n",
    "keys = data[0].keys()\n",
    "print(keys)\n",
    "f = open('data/wifi_list2.csv', 'w', newline='')\n",
    "dict_writer = csv.DictWriter(f, keys)\n",
    "dict_writer.writeheader()\n",
    "dict_writer.writerows(data)\n",
    "f.close()"
   ]
  },
  {
   "cell_type": "code",
   "execution_count": 11,
   "id": "black-excess",
   "metadata": {},
   "outputs": [
    {
     "name": "stdout",
     "output_type": "stream",
     "text": [
      "['e0:91:f5:de:fa:4f', 'NETGEAR-5G']\n",
      "['e2:91:f5:de:fa:51', 'bonesaw_Guest']\n",
      "['e0:91:f5:de:fa:50', 'BONESAW_HQ']\n",
      "['e0:91:f5:5e:34:60', 'Happy_Clam']\n"
     ]
    }
   ],
   "source": [
    "# Write rows one at a time as lists\n",
    "\n",
    "import csv\n",
    "\n",
    "#clear the file\n",
    "f = open('data/wifi_list3.csv', 'w', newline ='')\n",
    "f.write('')\n",
    "f.close()\n",
    "\n",
    "\n",
    "data = [{'MAC': 'e0:91:f5:de:fa:4f', 'SSID': 'NETGEAR-5G'}, \n",
    "        {'MAC': 'e2:91:f5:de:fa:51', 'SSID': 'bonesaw_Guest'}, \n",
    "        {'MAC': 'e0:91:f5:de:fa:50', 'SSID': 'BONESAW_HQ'},\n",
    "        {'MAC': 'e0:91:f5:5e:34:60', 'SSID': 'Happy_Clam'}]\n",
    "\n",
    "f = open('data/wifi_list3.csv', 'a', newline ='')\n",
    "writer = csv.writer(f)\n",
    "header = ['mac','ssid']\n",
    "writer.writerow(header)\n",
    "for row in data:\n",
    "    to_write = [row['MAC'],row['SSID']] #build our list to save to the file\n",
    "    print(to_write)\n",
    "    writer.writerow(to_write)\n",
    "f.close()"
   ]
  },
  {
   "cell_type": "code",
   "execution_count": null,
   "id": "saved-miller",
   "metadata": {},
   "outputs": [],
   "source": [
    "# Write script which reads data from the file data/storms.csv and \n",
    "#    saves them to 4 csv files organized by storm category.  For example \n",
    "#    storm_1.csv has only storms which are category 1 on the Saffir-Simpson Scale.\n",
    "#  each category file should contain the following fields:\n",
    "#  name,type,year,category,wind,area"
   ]
  },
  {
   "cell_type": "code",
   "execution_count": null,
   "id": "positive-serum",
   "metadata": {},
   "outputs": [],
   "source": [
    "# Read the same file as a pandas dataframe."
   ]
  },
  {
   "cell_type": "code",
   "execution_count": null,
   "id": "significant-tooth",
   "metadata": {},
   "outputs": [],
   "source": [
    "# Find the year and name of the storms with the highest wind speed"
   ]
  },
  {
   "cell_type": "code",
   "execution_count": null,
   "id": "developed-twist",
   "metadata": {},
   "outputs": [],
   "source": [
    "# Generate 2 lists of the count of named storms each month.  \n",
    "#    One list for Atlantic region and \n",
    "#     one for all pacific regions"
   ]
  },
  {
   "cell_type": "markdown",
   "id": "floppy-convergence",
   "metadata": {},
   "source": [
    "To Know:\n",
    "* How to write data structures like lists and dictionaries to csv files\n",
    "* Write filters which can select certain data and save it to a new file."
   ]
  },
  {
   "cell_type": "markdown",
   "id": "unlikely-europe",
   "metadata": {},
   "source": [
    "What can go wrong:\n",
    "* Make sure you only write strings to files or use row writer\n",
    "* debugging blank files\n",
    "* extra lines in csv files"
   ]
  },
  {
   "cell_type": "code",
   "execution_count": null,
   "id": "fancy-launch",
   "metadata": {},
   "outputs": [],
   "source": []
  }
 ],
 "metadata": {
  "kernelspec": {
   "display_name": "Python 3",
   "language": "python",
   "name": "python3"
  },
  "language_info": {
   "codemirror_mode": {
    "name": "ipython",
    "version": 3
   },
   "file_extension": ".py",
   "mimetype": "text/x-python",
   "name": "python",
   "nbconvert_exporter": "python",
   "pygments_lexer": "ipython3",
   "version": "3.6.5"
  }
 },
 "nbformat": 4,
 "nbformat_minor": 5
}
