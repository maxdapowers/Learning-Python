{
 "cells": [
  {
   "cell_type": "code",
   "execution_count": 8,
   "id": "systematic-mission",
   "metadata": {},
   "outputs": [
    {
     "data": {
      "text/plain": [
       "'\\nuser,email,office\\nTom,t@company.com,123\\nJim,j@company.com,124\\nKim,k@company.com,125\\n\\noffice-user-email\\n123-Tom-t@company.com\\n124-Jim-j@company.com\\n125-Kim-k@company.com\\n\\n123,Tom,t@company.com|124,Jim,j@company.com|125,Kim,k@company.com\\n\\n'"
      ]
     },
     "execution_count": 8,
     "metadata": {},
     "output_type": "execute_result"
    }
   ],
   "source": [
    "# File data can be thought of as a single string.  The proecess of making sense \n",
    "#   of that string is parsing.  For example the data below can be represented \n",
    "#   in many physical ways :\n",
    "'''\n",
    "user,email,office\n",
    "Tom,t@company.com,123\n",
    "Jim,j@company.com,124\n",
    "Kim,k@company.com,125\n",
    "\n",
    "office-user-email\n",
    "123-Tom-t@company.com\n",
    "124-Jim-j@company.com\n",
    "125-Kim-k@company.com\n",
    "\n",
    "123,Tom,t@company.com|124,Jim,j@company.com|125,Kim,k@company.com\n",
    "\n",
    "'''\n",
    "# But this data always has the same logical organization."
   ]
  },
  {
   "cell_type": "code",
   "execution_count": 9,
   "id": "manufactured-engineering",
   "metadata": {},
   "outputs": [],
   "source": [
    "# Identify delimiters in the formats above"
   ]
  },
  {
   "cell_type": "code",
   "execution_count": 10,
   "id": "ignored-enhancement",
   "metadata": {},
   "outputs": [],
   "source": [
    "# Look at data/wifi_list.csv data in text editor \n"
   ]
  },
  {
   "cell_type": "code",
   "execution_count": 11,
   "id": "south-vacuum",
   "metadata": {},
   "outputs": [],
   "source": [
    "# read in file and parse as a list of dictionaries\n",
    "# Why this format? # flat table data\n",
    "# Memory vs. disk"
   ]
  },
  {
   "cell_type": "code",
   "execution_count": 12,
   "id": "sunset-above",
   "metadata": {},
   "outputs": [
    {
     "name": "stdout",
     "output_type": "stream",
     "text": [
      "4484\n",
      "{'MAC': 'e0:91:f5:de:fa:4f', 'SSID': 'NETGEAR-5G', 'AuthMode': '[WPS][ESS]', 'FirstSeen': '5/9/2012 2:02', 'Channel': '36', 'RSSI': '-67', 'CurrentLatitude': '44.67023722', 'CurrentLongitude': '-74.98363701', 'AltitudeMeters': '104.1999969', 'AccuracyMeters': '7', 'Type': 'WIFI'}\n"
     ]
    }
   ],
   "source": [
    "#HOW TO LOOK THRU CSV FILES\n",
    "\n",
    "# this library deals with the issues that come up from csv format (commas in data values, etc)\n",
    "import csv\n",
    "\n",
    "#creates a list of dictionaries\n",
    "with open('data/wifi_list.csv') as f:\n",
    "    data = [{k: str(v) for k, v in row.items()}\n",
    "        for row in csv.DictReader(f, skipinitialspace=True)]\n",
    "    \n",
    "    \n",
    "print(len(data)) # the number of rows\n",
    "print(data[0]) # the value in the cell"
   ]
  },
  {
   "cell_type": "code",
   "execution_count": 13,
   "id": "golden-forward",
   "metadata": {},
   "outputs": [
    {
     "name": "stdout",
     "output_type": "stream",
     "text": [
      "{'MAC': '00:1c:f0:c0:32:95', 'SSID': 'IGA', 'AuthMode': '[WPA-PSK-TKIP][ESS]', 'FirstSeen': '5/30/2012 20:13', 'Channel': '11', 'RSSI': '-82', 'CurrentLatitude': '44.66992549', 'CurrentLongitude': '-74.98337494', 'AltitudeMeters': '94.19999695', 'AccuracyMeters': '3', 'Type': 'WIFI'}\n",
      "{'MAC': '00:1c:f0:c0:32:95', 'SSID': 'IGA', 'AuthMode': '[WPA-PSK-TKIP][ESS]', 'FirstSeen': '5/30/2012 20:14', 'Channel': '11', 'RSSI': '-90', 'CurrentLatitude': '44.66995975', 'CurrentLongitude': '-74.98233676', 'AltitudeMeters': '98.5', 'AccuracyMeters': '3', 'Type': 'WIFI'}\n",
      "{'MAC': '00:1c:f0:c0:32:95', 'SSID': 'IGA', 'AuthMode': '[WPA-PSK-TKIP][ESS]', 'FirstSeen': '5/30/2012 20:26', 'Channel': '11', 'RSSI': '-83', 'CurrentLatitude': '44.67005339', 'CurrentLongitude': '-74.98360493', 'AltitudeMeters': '103', 'AccuracyMeters': '4', 'Type': 'WIFI'}\n",
      "{'MAC': '00:1c:f0:c0:32:95', 'SSID': 'IGA', 'AuthMode': '[WPA-PSK-TKIP][ESS]', 'FirstSeen': '5/31/2012 15:27', 'Channel': '11', 'RSSI': '-88', 'CurrentLatitude': '44.67014359', 'CurrentLongitude': '-74.98374782', 'AltitudeMeters': '97.30000305', 'AccuracyMeters': '3', 'Type': 'WIFI'}\n",
      "{'MAC': '00:1c:f0:c0:32:95', 'SSID': 'IGA', 'AuthMode': '[WPA-PSK-TKIP][ESS]', 'FirstSeen': '5/31/2012 15:30', 'Channel': '11', 'RSSI': '-85', 'CurrentLatitude': '44.66995705', 'CurrentLongitude': '-74.98269818', 'AltitudeMeters': '95.59999847', 'AccuracyMeters': '5', 'Type': 'WIFI'}\n",
      "{'MAC': '00:1c:f0:c0:32:95', 'SSID': 'IGA', 'AuthMode': '[WPA-PSK-TKIP][ESS]', 'FirstSeen': '5/31/2012 16:01', 'Channel': '11', 'RSSI': '-94', 'CurrentLatitude': '44.67039831', 'CurrentLongitude': '-74.98381657', 'AltitudeMeters': '91.09999847', 'AccuracyMeters': '3', 'Type': 'WIFI'}\n",
      "{'MAC': '00:1c:f0:c0:32:95', 'SSID': 'IGA', 'AuthMode': '[WPA-PSK-TKIP][ESS]', 'FirstSeen': '6/7/2012 18:14', 'Channel': '11', 'RSSI': '-81', 'CurrentLatitude': '44.67001114', 'CurrentLongitude': '-74.98370126', 'AltitudeMeters': '105.5', 'AccuracyMeters': '5', 'Type': 'WIFI'}\n",
      "{'MAC': '00:1c:f0:c0:32:95', 'SSID': 'IGA', 'AuthMode': '[WPA-PSK-TKIP][ESS]', 'FirstSeen': '6/7/2012 18:18', 'Channel': '11', 'RSSI': '-89', 'CurrentLatitude': '44.66977439', 'CurrentLongitude': '-74.98269713', 'AltitudeMeters': '105.1999969', 'AccuracyMeters': '3', 'Type': 'WIFI'}\n",
      "{'MAC': '00:1c:f0:c0:32:95', 'SSID': 'IGA', 'AuthMode': '[WPA-PSK-TKIP][ESS]', 'FirstSeen': '6/7/2012 18:55', 'Channel': '11', 'RSSI': '-81', 'CurrentLatitude': '44.66944746', 'CurrentLongitude': '-74.98492021', 'AltitudeMeters': '91.90000153', 'AccuracyMeters': '3', 'Type': 'WIFI'}\n",
      "{'MAC': '00:1c:f0:c0:32:95', 'SSID': 'IGA', 'AuthMode': '[WPA-PSK-TKIP][ESS]', 'FirstSeen': '6/7/2012 18:55', 'Channel': '11', 'RSSI': '-92', 'CurrentLatitude': '44.6698922', 'CurrentLongitude': '-74.98378556', 'AltitudeMeters': '94.69999695', 'AccuracyMeters': '3', 'Type': 'WIFI'}\n"
     ]
    }
   ],
   "source": [
    "# Iterate over data rows\n",
    "\n",
    "for row in data:\n",
    "    if row['SSID'].lower() == 'iga': # the .lower() makes it case insensitve, just incase the SSID value has uppercase (makes it lower)\n",
    "        print(row)"
   ]
  },
  {
   "cell_type": "code",
   "execution_count": 14,
   "id": "dedicated-smooth",
   "metadata": {},
   "outputs": [
    {
     "name": "stdout",
     "output_type": "stream",
     "text": [
      "81\n"
     ]
    }
   ],
   "source": [
    "# Count the number of ssids containing the word 'netgear'\n",
    "# use in instead of == because we just want it to be contained, not the full thing\n",
    "\n",
    "n = 0 # create the counting variable\n",
    "for row in data:\n",
    "    if 'netgear' in row['SSID'].lower(): # the .lower() makes it case insensitve, just incase the SSID value has uppercase (makes it lower)\n",
    "        n += 1 #iterate the counting variable for each time the if statement is true\n",
    "print(n)"
   ]
  },
  {
   "cell_type": "code",
   "execution_count": 15,
   "id": "lucky-house",
   "metadata": {},
   "outputs": [
    {
     "name": "stdout",
     "output_type": "stream",
     "text": [
      "['CPH - WOW', 'CPH-Secure', 'CPH-Guest', 'CPH-eCW', 'CPH - WOW', 'CPH-Secure', 'CPH-eCW', 'CPH-eCW', 'CPH-Secure', 'CPH-Guest', 'CPH - WOW', 'CPH - WOW', 'CPH - WOW', 'CPH-Secure', 'CPH - WOW', 'CPH-eCW', 'CPH-Secure', 'CPH-Guest', 'CPH-eCW', 'CPH - WOW', 'CPH-Secure', 'CPH-Secure', 'CPH-Guest', 'CPH - WOW', 'CPH-Secure', 'CPH-eCW', 'CPH-eCW', 'CPH-Guest', 'CPH-eCW', 'CPH-Secure', 'CPH-Guest', 'CPH-Guest', 'CPH - WOW', 'CPH - WOW', 'CPH-Guest', 'CPH-eCW', 'CPH - WOW', 'CPH - WOW', 'CPH-Secure', 'CPH-eCW', 'CPH-Secure', 'CPH-Guest', 'CPH - WOW', 'CPH - WOW', 'CPH-Secure', 'CPH-eCW', 'CPH-eCW', 'CPH-Secure', 'CPH - WOW', 'CPH-Guest', 'CPH-Guest', 'CPH - WOW', 'CPH-Secure', 'CPH-eCW', 'CPH-Guest', 'CPH - WOW', 'CPH-Secure', 'CPH-eCW', 'CPH-Guest', 'CPH-Secure', 'CPH - WOW', 'CPH-eCW', 'CPH-Guest', 'CPH-eCW', 'CPH - WOW', 'CPH-Secure', 'CPH-Guest', 'CPH - WOW', 'CPH-Secure', 'CPH-eCW', 'CPH-Guest', 'CPH-Guest', 'CPH - WOW', 'CPH-Secure', 'CPH - WOW', 'CPH-Secure', 'CPH-eCW', 'CPH-Guest', 'CPH-Guest', 'CPH-Guest', 'CPH - WOW', 'CPH-eCW', 'CPH-Secure', 'CPH-Guest', 'CPH - WOW', 'CPH-Secure', 'CPH-eCW', 'CPH - WOW', 'CPH-Guest', 'CPH - WOW', 'CPH - WOW', 'CPH-Secure', 'CPH - WOW', 'CPH-Guest', 'CPH-Secure', 'CPH - WOW', 'CPH-Guest']\n"
     ]
    }
   ],
   "source": [
    "# Create and print a list of all the ssids containing 'cph'  - case insensitive\n",
    "\n",
    "ssidlist = [] # create a list to fill in with the loop\n",
    "\n",
    "for row in data:\n",
    "    if 'cph' in row['SSID'].lower():\n",
    "        ssidlist.append(row['SSID']) # pushback on list\n",
    "print(ssidlist)"
   ]
  },
  {
   "cell_type": "code",
   "execution_count": 20,
   "id": "488b711f-da40-4bab-a567-22be9722e8a6",
   "metadata": {},
   "outputs": [
    {
     "name": "stdout",
     "output_type": "stream",
     "text": [
      "{'36': 27, '11': 963, '6': 1544, '1': 999, '0': 301, '149': 58, '4': 40, '2': 151, '8': 51, '60': 4, '3': 72, '52': 9, '5': 42, '40': 1, '7': 44, '9': 83, '10': 68, '48': 4, '153': 4, '44': 16, '161': 2, '157': 1}\n",
      "36 27\n",
      "11 963\n",
      "6 1544\n",
      "1 999\n",
      "0 301\n",
      "149 58\n",
      "4 40\n",
      "2 151\n",
      "8 51\n",
      "60 4\n",
      "3 72\n",
      "52 9\n",
      "5 42\n",
      "40 1\n",
      "7 44\n",
      "9 83\n",
      "10 68\n",
      "48 4\n",
      "153 4\n",
      "44 16\n",
      "161 2\n",
      "157 1\n"
     ]
    }
   ],
   "source": [
    "# group-by \n",
    "\n",
    "\n",
    "channel_count = {} # creates a dictionary\n",
    "for row in data:\n",
    "    k = row['Channel'] # takes the column from from the data and makes it the variable, in this case its the channel column\n",
    "    if k in channel_count: # checks to see if k (aka the channel number) is already in the dictionary's keys\n",
    "        channel_count[k] += 1 # increments the value (from assigned the the key k)\n",
    "    else:\n",
    "        channel_count[k] = 1 # if the channel isn't already in the dictionaries keys, create it and set it to one\n",
    "        \n",
    "print(channel_count)\n",
    "for chan,count in channel_count.items():\n",
    "    print(chan,count)\n",
    "    "
   ]
  },
  {
   "cell_type": "code",
   "execution_count": 17,
   "id": "active-cedar",
   "metadata": {},
   "outputs": [],
   "source": [
    "# Do datetime conversion in loop as part of filter"
   ]
  },
  {
   "cell_type": "code",
   "execution_count": 18,
   "id": "vulnerable-colonial",
   "metadata": {},
   "outputs": [],
   "source": [
    "# Inspect the file data/datafiles/datalog.txt.20180721_184322  What is this format?"
   ]
  },
  {
   "cell_type": "markdown",
   "id": "atlantic-architect",
   "metadata": {},
   "source": [
    "To Know:\n",
    "* Logical vs physical representation\n",
    "* flat vs. nested data\n",
    "* Memory vs. disk\n",
    "* Iterate over a list of dictionaries \n",
    "* Write if conditions to filter data in a loop\n"
   ]
  },
  {
   "cell_type": "code",
   "execution_count": null,
   "id": "cardiac-state",
   "metadata": {},
   "outputs": [],
   "source": []
  }
 ],
 "metadata": {
  "kernelspec": {
   "display_name": "Python 3 (ipykernel)",
   "language": "python",
   "name": "python3"
  },
  "language_info": {
   "codemirror_mode": {
    "name": "ipython",
    "version": 3
   },
   "file_extension": ".py",
   "mimetype": "text/x-python",
   "name": "python",
   "nbconvert_exporter": "python",
   "pygments_lexer": "ipython3",
   "version": "3.10.6"
  }
 },
 "nbformat": 4,
 "nbformat_minor": 5
}
