{
 "cells": [
  {
   "cell_type": "code",
   "execution_count": null,
   "id": "d391c725",
   "metadata": {},
   "outputs": [],
   "source": [
    "#demo a large datafile in excel / notepad\n",
    "# gc log.txt | select -first 10\n",
    "# Get-Content log.txt -Tail 10"
   ]
  },
  {
   "cell_type": "code",
   "execution_count": 1,
   "id": "7af41df6",
   "metadata": {},
   "outputs": [
    {
     "name": "stdout",
     "output_type": "stream",
     "text": [
      "0\n",
      "100000\n",
      "200000\n",
      "300000\n",
      "400000\n",
      "500000\n",
      "600000\n",
      "700000\n",
      "800000\n",
      "900000\n",
      "1000000\n",
      "1100000\n",
      "1200000\n",
      "1300000\n",
      "1400000\n",
      "1500000\n",
      "1600000\n",
      "1700000\n",
      "1800000\n",
      "1900000\n",
      "2000000\n",
      "2100000\n",
      "2200000\n",
      "2300000\n",
      "2400000\n",
      "2500000\n",
      "2600000\n",
      "2700000\n",
      "2800000\n",
      "2900000\n",
      "3000000\n",
      "3100000\n",
      "3200000\n",
      "3300000\n",
      "3400000\n",
      "3500000\n",
      "3600000\n",
      "3700000\n",
      "3800000\n",
      "3900000\n",
      "4000000\n",
      "4100000\n",
      "4200000\n",
      "4300000\n",
      "4400000\n",
      "4500000\n",
      "4600000\n",
      "4700000\n",
      "4800000\n",
      "4900000\n",
      "5000000\n",
      "5100000\n",
      "5200000\n",
      "5300000\n",
      "5400000\n",
      "5500000\n",
      "5600000\n",
      "5700000\n",
      "5800000\n",
      "5900000\n",
      "6000000\n",
      "6100000\n",
      "6200000\n",
      "6300000\n",
      "6400000\n",
      "6500000\n",
      "6600000\n",
      "6700000\n",
      "6800000\n",
      "6900000\n",
      "7000000\n",
      "7100000\n",
      "7200000\n",
      "7300000\n",
      "7400000\n",
      "7500000\n",
      "7600000\n",
      "7700000\n",
      "7800000\n",
      "7900000\n",
      "8000000\n",
      "8100000\n",
      "8200000\n",
      "8300000\n",
      "8400000\n",
      "8500000\n",
      "8600000\n",
      "8700000\n",
      "8800000\n",
      "8900000\n",
      "9000000\n",
      "9100000\n",
      "9200000\n",
      "9300000\n",
      "9400000\n",
      "9500000\n",
      "9600000\n",
      "9700000\n",
      "9800000\n",
      "9900000\n",
      "10000000\n",
      "10100000\n",
      "10200000\n",
      "10300000\n",
      "10400000\n",
      "10500000\n",
      "10600000\n",
      "10626900\n"
     ]
    }
   ],
   "source": [
    "#  We can open files line by line to reduce memory usage.\n",
    "# https://clarksonmsda.org/datafiles/\n",
    "# discuss \n",
    "# -dataformat (lists)\n",
    "# -printing\n",
    "# -etc.\n",
    "import csv\n",
    "fn = 'data/full_parking_violations_2016.csv'\n",
    "\n",
    "f = open(fn, 'r')\n",
    "reader = csv.reader(f)\n",
    "n = 0\n",
    "for row in reader:\n",
    "    if n % 100000 == 0:\n",
    "        print(n)\n",
    "    n+=1\n",
    "print(n)"
   ]
  },
  {
   "cell_type": "code",
   "execution_count": 4,
   "id": "2c28591a",
   "metadata": {},
   "outputs": [
    {
     "name": "stdout",
     "output_type": "stream",
     "text": [
      "51\n"
     ]
    }
   ],
   "source": [
    "import csv\n",
    "fn = 'data/full_parking_violations_2016.csv'\n",
    "\n",
    "f = open(fn, 'r')\n",
    "reader = csv.reader(f)\n",
    "headers = None\n",
    "for row in reader:\n",
    "    headers=row\n",
    "    break\n",
    "print(len(headers))"
   ]
  },
  {
   "cell_type": "code",
   "execution_count": 1,
   "id": "c65addb0",
   "metadata": {},
   "outputs": [],
   "source": [
    "import csv\n",
    "\n",
    "with open('data/full_parking_violations_2016.csv') as f:\n",
    "    data = [{k: str(v) for k, v in row.items()}\n",
    "        for row in csv.DictReader(f, skipinitialspace=True)]"
   ]
  },
  {
   "cell_type": "code",
   "execution_count": null,
   "id": "conscious-marker",
   "metadata": {},
   "outputs": [],
   "source": [
    "# create a script which imports all Atlantic storms data from data/storms.csv\n",
    "# (modify last weeks script)"
   ]
  },
  {
   "cell_type": "code",
   "execution_count": 5,
   "id": "established-conservation",
   "metadata": {},
   "outputs": [],
   "source": [
    "# Creating subsets\n",
    "# Create a smaller subset of a very large CSV:\n",
    "import csv\n",
    "\n",
    "#load the input file\n",
    "f1 = open('data/wifi_list.csv','r')\n",
    "reader = csv.reader(f1)\n",
    "\n",
    "#clear the destination file\n",
    "f = open('data/wifi_subset.csv', 'w', newline ='')\n",
    "f.write('')\n",
    "f.close()\n",
    "\n",
    "#open destination for appending \n",
    "f = open('data/wifi_subset.csv', 'a', newline ='')\n",
    "writer = csv.writer(f)\n",
    "n=0\n",
    "subset_size = 100\n",
    "for row in reader:\n",
    "    writer.writerow(row)\n",
    "    n+=1\n",
    "    if n > subset_size:\n",
    "        break\n",
    "f.close()"
   ]
  },
  {
   "cell_type": "code",
   "execution_count": 8,
   "id": "c20564de",
   "metadata": {},
   "outputs": [
    {
     "name": "stdout",
     "output_type": "stream",
     "text": [
      "Issue Date\n",
      "07/09/2015\n",
      "07/09/2015\n"
     ]
    }
   ],
   "source": [
    "# Creating subsets\n",
    "# Create a smaller subset of a very large CSV:\n",
    "import csv\n",
    "\n",
    "#load the input file\n",
    "f1 = open('data/full_parking_violations_2016.csv','r')\n",
    "reader = csv.reader(f1)\n",
    "\n",
    "#clear the destination file\n",
    "f = open('data/parking_subset_feb.csv', 'w', newline ='')\n",
    "f.write('')\n",
    "f.close()\n",
    "\n",
    "#open destination for appending \n",
    "f = open('data/parking_subset_feb.csv', 'a', newline ='')\n",
    "writer = csv.writer(f)\n",
    "n=0\n",
    "for row in reader:\n",
    "    print(row[4])\n",
    "    if n > 1:\n",
    "        break\n",
    "    writer.writerow(row)\n",
    "    n+=1\n",
    "f.close()"
   ]
  },
  {
   "cell_type": "code",
   "execution_count": null,
   "id": "delayed-parliament",
   "metadata": {},
   "outputs": [],
   "source": [
    "# cur.executemany()\n",
    "#insert storms.csv using this method"
   ]
  },
  {
   "cell_type": "code",
   "execution_count": null,
   "id": "satisfied-wallet",
   "metadata": {},
   "outputs": [],
   "source": []
  },
  {
   "cell_type": "code",
   "execution_count": null,
   "id": "allied-reverse",
   "metadata": {},
   "outputs": [],
   "source": []
  },
  {
   "cell_type": "markdown",
   "id": "reliable-stretch",
   "metadata": {},
   "source": [
    "To Know:\n",
    "* Be able to profile scripts and get a sense of which part is slowest.\n",
    "* Be able to work with a large CSV in a memory conscious way.\n",
    "  * iteration line by line\n",
    "  * Printing\n",
    "  * executemany()\n",
    "* Be able to write a script which inserts / filters / subsets that data"
   ]
  },
  {
   "cell_type": "markdown",
   "id": "superior-correspondence",
   "metadata": {},
   "source": []
  },
  {
   "cell_type": "code",
   "execution_count": null,
   "id": "together-conjunction",
   "metadata": {},
   "outputs": [],
   "source": []
  }
 ],
 "metadata": {
  "kernelspec": {
   "display_name": "Python 3.10.7 64-bit",
   "language": "python",
   "name": "python3"
  },
  "language_info": {
   "codemirror_mode": {
    "name": "ipython",
    "version": 3
   },
   "file_extension": ".py",
   "mimetype": "text/x-python",
   "name": "python",
   "nbconvert_exporter": "python",
   "pygments_lexer": "ipython3",
   "version": "3.10.7"
  },
  "vscode": {
   "interpreter": {
    "hash": "beedbe2faf2f7048d727558d0bc3221e7eba2a0b921cac4d4771b2feb8f74b30"
   }
  }
 },
 "nbformat": 4,
 "nbformat_minor": 5
}
