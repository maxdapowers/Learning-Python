{
 "cells": [
  {
   "cell_type": "code",
   "execution_count": 2,
   "id": "soviet-spiritual",
   "metadata": {},
   "outputs": [
    {
     "name": "stdout",
     "output_type": "stream",
     "text": [
      "{'wind': 13, 'temp': 43.2, 'condition': 'sunny', 'is_raining': False}\n",
      "{\"wind\": 13, \"temp\": 43.2, \"condition\": \"sunny\", \"is_raining\": false}\n"
     ]
    }
   ],
   "source": [
    "import json\n",
    "# JSON is a serialization format for storing data as strings.  \n",
    "#  It looks similar to the way python prints memory structures\n",
    "data = {'wind':13,'temp':43.2,'condition':'sunny','is_raining':False}\n",
    "print(data)  #print python ast literal format - this is NOT JSON\n",
    "print(json.dumps(data)) # print json encoded data - this is JSON"
   ]
  },
  {
   "cell_type": "code",
   "execution_count": null,
   "id": "thrown-caution",
   "metadata": {},
   "outputs": [],
   "source": [
    "# JSON supports certain types.  Integer, String, Float, Boolean"
   ]
  },
  {
   "cell_type": "code",
   "execution_count": 5,
   "id": "intermediate-tiffany",
   "metadata": {},
   "outputs": [
    {
     "name": "stdout",
     "output_type": "stream",
     "text": [
      "[{\"wind\": {\"speed\": 13, \"direction\": \"NW\"}, \"temp\": 43.2, \"condition\": \"sunny\", \"is_raining\": false}, {\"wind\": {\"speed\": 14, \"direction\": \"S\"}, \"temp\": 73.2, \"condition\": \"cloudy\", \"is_raining\": false}, {\"wind\": {\"speed\": 2, \"direction\": \"W\"}, \"temp\": 68, \"condition\": \"rain\", \"is_raining\": true}]\n"
     ]
    }
   ],
   "source": [
    "# JSON allows serialization of nested data and memory structures:\n",
    "observations = [{'wind':{'speed':13,'direction':'NW'},'temp':43.2,'condition':'sunny','is_raining':False},\n",
    "                {'wind':{'speed':14,'direction':'S'},'temp':73.2,'condition':'cloudy','is_raining':False},\n",
    "                {'wind':{'speed':2,'direction':'W'},'temp':68,'condition':'rain','is_raining':True}\n",
    "               ]\n",
    "print(json.dumps(observations))"
   ]
  },
  {
   "cell_type": "code",
   "execution_count": null,
   "id": "activated-effectiveness",
   "metadata": {},
   "outputs": [],
   "source": [
    "# Many times files contain many JSON dictionaries delimited by newlines.  This allows processing of one line (object) at a time."
   ]
  },
  {
   "cell_type": "code",
   "execution_count": null,
   "id": "ceramic-cement",
   "metadata": {},
   "outputs": [],
   "source": [
    "# Inspect the datafiles in data/datafiles"
   ]
  },
  {
   "cell_type": "code",
   "execution_count": 6,
   "id": "plastic-framing",
   "metadata": {},
   "outputs": [],
   "source": [
    "# open a large file line by line\n",
    "import json\n",
    "f = open('data/datafiles/datalog.txt.20180721_184322','r')\n",
    "for line in f:\n",
    "    data = json.loads(line)\n",
    "f.close()"
   ]
  },
  {
   "cell_type": "code",
   "execution_count": null,
   "id": "eight-prairie",
   "metadata": {},
   "outputs": [],
   "source": [
    "# discuss memory usage in the code above"
   ]
  },
  {
   "cell_type": "code",
   "execution_count": null,
   "id": "exceptional-gentleman",
   "metadata": {},
   "outputs": [],
   "source": [
    "# create a script which opens datalog.txt.20180721_184322 and saves it to a csv with the following fields:\n",
    "# pitime, temp_1,temp_8,temp_2\n",
    "# only use json object where type = print_reading"
   ]
  },
  {
   "cell_type": "code",
   "execution_count": null,
   "id": "solid-expert",
   "metadata": {},
   "outputs": [],
   "source": [
    "# write a script which allows the user to enter a date and saves a csv with data from that date."
   ]
  },
  {
   "cell_type": "code",
   "execution_count": null,
   "id": "gross-polyester",
   "metadata": {},
   "outputs": [],
   "source": [
    "# Create a script which inserts pitime, temp_1,temp_8,temp_2 to a SQL table "
   ]
  },
  {
   "cell_type": "markdown",
   "id": "young-mistake",
   "metadata": {},
   "source": [
    "To Know:\n",
    "* Be able to create a nested data structure json schema based around a narrative\n",
    "* Create lists and dictionaies in python an save them as json\n",
    "* Open a file line by line and deserialize / navigate through its data.\n",
    "* Identify what type of format a file is in by looking at it in a text editor\n",
    "* Iterate over json files.  Filter and store the data as csv or SQL"
   ]
  },
  {
   "cell_type": "markdown",
   "id": "baking-nitrogen",
   "metadata": {},
   "source": [
    "What can go wrong:\n",
    "* Filters do not show any results\n",
    "* Progress meters (counter)\n",
    "* List cannot be index with string\n",
    "* Be careful about types file / str / dictionary / list / json\n",
    "* Types in if conditions\n",
    "* JSON has types\n"
   ]
  },
  {
   "cell_type": "code",
   "execution_count": null,
   "id": "twelve-caution",
   "metadata": {},
   "outputs": [],
   "source": []
  }
 ],
 "metadata": {
  "kernelspec": {
   "display_name": "Python 3",
   "language": "python",
   "name": "python3"
  },
  "language_info": {
   "codemirror_mode": {
    "name": "ipython",
    "version": 3
   },
   "file_extension": ".py",
   "mimetype": "text/x-python",
   "name": "python",
   "nbconvert_exporter": "python",
   "pygments_lexer": "ipython3",
   "version": "3.6.5"
  }
 },
 "nbformat": 4,
 "nbformat_minor": 5
}
