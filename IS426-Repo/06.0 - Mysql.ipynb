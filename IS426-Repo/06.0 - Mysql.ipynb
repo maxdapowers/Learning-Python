{
 "cells": [
  {
   "cell_type": "code",
   "execution_count": null,
   "id": "usual-newark",
   "metadata": {},
   "outputs": [],
   "source": [
    "# The pymysql module is used to communicate with a mysql database \n",
    "# install the module"
   ]
  },
  {
   "cell_type": "code",
   "execution_count": null,
   "id": "desirable-bennett",
   "metadata": {},
   "outputs": [],
   "source": [
    "# discuss the database architecture"
   ]
  },
  {
   "cell_type": "code",
   "execution_count": null,
   "id": "clear-closing",
   "metadata": {},
   "outputs": [],
   "source": [
    "# login to phpmyadmin and create a table to store the storms.csv data (know not null, auto increment, primary)"
   ]
  },
  {
   "cell_type": "code",
   "execution_count": null,
   "id": "cultural-ensemble",
   "metadata": {},
   "outputs": [],
   "source": [
    "# run arbitrary SQL in phpmyadmin"
   ]
  },
  {
   "cell_type": "code",
   "execution_count": null,
   "id": "opponent-retailer",
   "metadata": {},
   "outputs": [],
   "source": [
    "# use the template below to create script which drops and then creates the storms table with the proper schema"
   ]
  },
  {
   "cell_type": "code",
   "execution_count": null,
   "id": "aerial-navigator",
   "metadata": {},
   "outputs": [],
   "source": [
    "# discuss the secrets file "
   ]
  },
  {
   "cell_type": "code",
   "execution_count": null,
   "id": "certain-oasis",
   "metadata": {},
   "outputs": [],
   "source": [
    "import pymysql\n",
    "import secrets\n",
    "\n",
    "conn = pymysql.connect(host=secrets.host, port=3306, user=secrets.user,\n",
    "                       passwd=secrets.passwd, db='is437', autocommit=True)\n",
    "\n",
    "cur = conn.cursor(pymysql.cursors.DictCursor)\n",
    "\n",
    "sql = '''DROP TABLE IF EXISTS `conlontj_test`;'''\n",
    "cur.execute(sql)\n",
    "\n",
    "\n",
    "sql = '''\n",
    "CREATE TABLE IF NOT EXISTS `conlontj_test` (\n",
    "  `id` int(5) NOT NULL AUTO_INCREMENT,\n",
    "  `device` varchar(10) NOT NULL,\n",
    "  `msg` varchar(20) NOT NULL,\n",
    "  PRIMARY KEY (`id`)\n",
    ") ENGINE=MyISAM DEFAULT CHARSET=latin1 AUTO_INCREMENT=1 ;\n",
    "'''\n",
    "cur.execute(sql)\n"
   ]
  },
  {
   "cell_type": "code",
   "execution_count": null,
   "id": "cleared-power",
   "metadata": {},
   "outputs": [],
   "source": [
    "# how to write a python function, define unit tests"
   ]
  },
  {
   "cell_type": "code",
   "execution_count": null,
   "id": "domestic-litigation",
   "metadata": {},
   "outputs": [],
   "source": [
    "# write a function which drops a specified table.\n",
    "#  what are some good unit tests?"
   ]
  },
  {
   "cell_type": "code",
   "execution_count": null,
   "id": "rough-toddler",
   "metadata": {},
   "outputs": [],
   "source": [
    "# Write function which takes a csv file as an argument and returns \n",
    "#    the proper create table query for creating it in SQL"
   ]
  },
  {
   "cell_type": "markdown",
   "id": "permanent-footwear",
   "metadata": {},
   "source": [
    "To Know:\n",
    "* How to login to the VPN if off campus\n",
    "* How to sign into phpmyadmin\n",
    "* How to create a table in phpmyadmin (not null, auto increment, primary)\n",
    "* Best practices for fieldnames\n",
    "* Export arbitrary SQL and execute it in Python\n",
    "* What a cursor / connection is \n",
    "* Define a function, specify args\n",
    "* Write a unit test"
   ]
  },
  {
   "cell_type": "markdown",
   "id": "british-sacramento",
   "metadata": {},
   "source": [
    "What can go wrong:\n",
    "* Cannot connect to phpmyadmin\n",
    "* pymysql can't establish connection to DB\n",
    "* SQL errors - how to identify\n",
    "* Debug SQL syntax errors\n",
    "* trouble defining a function - tricks for too amny args or return values\n"
   ]
  },
  {
   "cell_type": "code",
   "execution_count": null,
   "id": "personal-effort",
   "metadata": {},
   "outputs": [],
   "source": []
  },
  {
   "cell_type": "code",
   "execution_count": null,
   "id": "competitive-doubt",
   "metadata": {},
   "outputs": [],
   "source": [
    "sql = '''SELECT COUNT(studentid)'''"
   ]
  }
 ],
 "metadata": {
  "kernelspec": {
   "display_name": "Python 3 (ipykernel)",
   "language": "python",
   "name": "python3"
  },
  "language_info": {
   "codemirror_mode": {
    "name": "ipython",
    "version": 3
   },
   "file_extension": ".py",
   "mimetype": "text/x-python",
   "name": "python",
   "nbconvert_exporter": "python",
   "pygments_lexer": "ipython3",
   "version": "3.10.6"
  }
 },
 "nbformat": 4,
 "nbformat_minor": 5
}
