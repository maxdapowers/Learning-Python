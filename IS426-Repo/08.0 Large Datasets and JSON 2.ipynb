{
 "cells": [
  {
   "cell_type": "code",
   "execution_count": null,
   "id": "d391c725",
   "metadata": {},
   "outputs": [],
   "source": [
    "#demo a large datafile in excel / notepad\n",
    "# gc log.txt | select -first 10\n",
    "# Get-Content log.txt -Tail 10"
   ]
  },
  {
   "cell_type": "code",
   "execution_count": 2,
   "id": "7af41df6",
   "metadata": {},
   "outputs": [
    {
     "ename": "FileNotFoundError",
     "evalue": "[Errno 2] No such file or directory: 'data/full_parking_violations_2016.csv'",
     "output_type": "error",
     "traceback": [
      "\u001b[0;31m---------------------------------------------------------------------------\u001b[0m",
      "\u001b[0;31mFileNotFoundError\u001b[0m                         Traceback (most recent call last)",
      "Input \u001b[0;32mIn [2]\u001b[0m, in \u001b[0;36m<cell line: 10>\u001b[0;34m()\u001b[0m\n\u001b[1;32m      7\u001b[0m \u001b[38;5;28;01mimport\u001b[39;00m \u001b[38;5;21;01mcsv\u001b[39;00m\n\u001b[1;32m      8\u001b[0m fn \u001b[38;5;241m=\u001b[39m \u001b[38;5;124m'\u001b[39m\u001b[38;5;124mdata/full_parking_violations_2016.csv\u001b[39m\u001b[38;5;124m'\u001b[39m\n\u001b[0;32m---> 10\u001b[0m f \u001b[38;5;241m=\u001b[39m \u001b[38;5;28;43mopen\u001b[39;49m\u001b[43m(\u001b[49m\u001b[43mfn\u001b[49m\u001b[43m,\u001b[49m\u001b[43m \u001b[49m\u001b[38;5;124;43m'\u001b[39;49m\u001b[38;5;124;43mr\u001b[39;49m\u001b[38;5;124;43m'\u001b[39;49m\u001b[43m)\u001b[49m\n\u001b[1;32m     11\u001b[0m reader \u001b[38;5;241m=\u001b[39m csv\u001b[38;5;241m.\u001b[39mreader(f)\n\u001b[1;32m     12\u001b[0m n \u001b[38;5;241m=\u001b[39m \u001b[38;5;241m0\u001b[39m\n",
      "\u001b[0;31mFileNotFoundError\u001b[0m: [Errno 2] No such file or directory: 'data/full_parking_violations_2016.csv'"
     ]
    }
   ],
   "source": [
    "#  We can open files line by line to reduce memory usage.\n",
    "# https://clarksonmsda.org/datafiles/\n",
    "# discuss \n",
    "# -dataformat (lists)\n",
    "# -printing\n",
    "# -etc.\n",
    "import csv\n",
    "fn = 'data/full_parking_violations_2016.csv'\n",
    "\n",
    "f = open(fn, 'r')\n",
    "reader = csv.reader(f)\n",
    "n = 0\n",
    "for row in reader:\n",
    "    if n % 100000 == 0:\n",
    "        print(n)\n",
    "    n+=1\n",
    "print(n)"
   ]
  },
  {
   "cell_type": "code",
   "execution_count": 3,
   "id": "2c28591a",
   "metadata": {},
   "outputs": [
    {
     "ename": "FileNotFoundError",
     "evalue": "[Errno 2] No such file or directory: 'data/full_parking_violations_2016.csv'",
     "output_type": "error",
     "traceback": [
      "\u001b[0;31m---------------------------------------------------------------------------\u001b[0m",
      "\u001b[0;31mFileNotFoundError\u001b[0m                         Traceback (most recent call last)",
      "Input \u001b[0;32mIn [3]\u001b[0m, in \u001b[0;36m<cell line: 5>\u001b[0;34m()\u001b[0m\n\u001b[1;32m      2\u001b[0m \u001b[38;5;28;01mimport\u001b[39;00m \u001b[38;5;21;01mcsv\u001b[39;00m\n\u001b[1;32m      3\u001b[0m fn \u001b[38;5;241m=\u001b[39m \u001b[38;5;124m'\u001b[39m\u001b[38;5;124mdata/full_parking_violations_2016.csv\u001b[39m\u001b[38;5;124m'\u001b[39m\n\u001b[0;32m----> 5\u001b[0m f \u001b[38;5;241m=\u001b[39m \u001b[38;5;28;43mopen\u001b[39;49m\u001b[43m(\u001b[49m\u001b[43mfn\u001b[49m\u001b[43m,\u001b[49m\u001b[43m \u001b[49m\u001b[38;5;124;43m'\u001b[39;49m\u001b[38;5;124;43mr\u001b[39;49m\u001b[38;5;124;43m'\u001b[39;49m\u001b[43m)\u001b[49m\n\u001b[1;32m      6\u001b[0m reader \u001b[38;5;241m=\u001b[39m csv\u001b[38;5;241m.\u001b[39mreader(f)\n\u001b[1;32m      7\u001b[0m headers \u001b[38;5;241m=\u001b[39m \u001b[38;5;28;01mNone\u001b[39;00m\n",
      "\u001b[0;31mFileNotFoundError\u001b[0m: [Errno 2] No such file or directory: 'data/full_parking_violations_2016.csv'"
     ]
    }
   ],
   "source": [
    "# imports data from csv file line by line (?)\n",
    "import csv\n",
    "fn = 'data/full_parking_violations_2016.csv'\n",
    "\n",
    "f = open(fn, 'r')\n",
    "reader = csv.reader(f)\n",
    "headers = None\n",
    "for row in reader:\n",
    "    headers=row\n",
    "    break\n",
    "print(len(headers))"
   ]
  },
  {
   "cell_type": "code",
   "execution_count": 4,
   "id": "c65addb0",
   "metadata": {},
   "outputs": [
    {
     "ename": "FileNotFoundError",
     "evalue": "[Errno 2] No such file or directory: 'data/full_parking_violations_2016.csv'",
     "output_type": "error",
     "traceback": [
      "\u001b[0;31m---------------------------------------------------------------------------\u001b[0m",
      "\u001b[0;31mFileNotFoundError\u001b[0m                         Traceback (most recent call last)",
      "Input \u001b[0;32mIn [4]\u001b[0m, in \u001b[0;36m<cell line: 3>\u001b[0;34m()\u001b[0m\n\u001b[1;32m      1\u001b[0m \u001b[38;5;28;01mimport\u001b[39;00m \u001b[38;5;21;01mcsv\u001b[39;00m\n\u001b[0;32m----> 3\u001b[0m \u001b[38;5;28;01mwith\u001b[39;00m \u001b[38;5;28;43mopen\u001b[39;49m\u001b[43m(\u001b[49m\u001b[38;5;124;43m'\u001b[39;49m\u001b[38;5;124;43mdata/full_parking_violations_2016.csv\u001b[39;49m\u001b[38;5;124;43m'\u001b[39;49m\u001b[43m)\u001b[49m \u001b[38;5;28;01mas\u001b[39;00m f:\n\u001b[1;32m      4\u001b[0m     data \u001b[38;5;241m=\u001b[39m [{k: \u001b[38;5;28mstr\u001b[39m(v) \u001b[38;5;28;01mfor\u001b[39;00m k, v \u001b[38;5;129;01min\u001b[39;00m row\u001b[38;5;241m.\u001b[39mitems()}\n\u001b[1;32m      5\u001b[0m         \u001b[38;5;28;01mfor\u001b[39;00m row \u001b[38;5;129;01min\u001b[39;00m csv\u001b[38;5;241m.\u001b[39mDictReader(f, skipinitialspace\u001b[38;5;241m=\u001b[39m\u001b[38;5;28;01mTrue\u001b[39;00m)]\n",
      "\u001b[0;31mFileNotFoundError\u001b[0m: [Errno 2] No such file or directory: 'data/full_parking_violations_2016.csv'"
     ]
    }
   ],
   "source": [
    "import csv\n",
    "\n",
    "with open('data/full_parking_violations_2016.csv') as f:\n",
    "    data = [{k: str(v) for k, v in row.items()}\n",
    "        for row in csv.DictReader(f, skipinitialspace=True)]"
   ]
  },
  {
   "cell_type": "code",
   "execution_count": 5,
   "id": "conscious-marker",
   "metadata": {},
   "outputs": [],
   "source": [
    "# create a script which imports all Atlantic storms data from data/storms.csv\n",
    "# (modify last weeks script)"
   ]
  },
  {
   "cell_type": "code",
   "execution_count": 6,
   "id": "established-conservation",
   "metadata": {},
   "outputs": [],
   "source": [
    "# Creating subsets\n",
    "# Create a smaller subset of a very large CSV:\n",
    "import csv\n",
    "\n",
    "#load the input file\n",
    "f1 = open('data/wifi_list.csv','r')\n",
    "reader = csv.reader(f1)\n",
    "\n",
    "#clear the destination file\n",
    "f = open('data/wifi_subset.csv', 'w', newline ='')\n",
    "f.write('')\n",
    "f.close()\n",
    "\n",
    "#open destination for appending \n",
    "f = open('data/wifi_subset.csv', 'a', newline ='')\n",
    "writer = csv.writer(f)\n",
    "n=0\n",
    "subset_size = 100\n",
    "for row in reader:\n",
    "    writer.writerow(row)\n",
    "    n+=1\n",
    "    if n > subset_size:\n",
    "        break\n",
    "f.close()"
   ]
  },
  {
   "cell_type": "code",
   "execution_count": 7,
   "id": "c20564de",
   "metadata": {},
   "outputs": [
    {
     "ename": "FileNotFoundError",
     "evalue": "[Errno 2] No such file or directory: 'data/full_parking_violations_2016.csv'",
     "output_type": "error",
     "traceback": [
      "\u001b[0;31m---------------------------------------------------------------------------\u001b[0m",
      "\u001b[0;31mFileNotFoundError\u001b[0m                         Traceback (most recent call last)",
      "Input \u001b[0;32mIn [7]\u001b[0m, in \u001b[0;36m<cell line: 6>\u001b[0;34m()\u001b[0m\n\u001b[1;32m      3\u001b[0m \u001b[38;5;28;01mimport\u001b[39;00m \u001b[38;5;21;01mcsv\u001b[39;00m\n\u001b[1;32m      5\u001b[0m \u001b[38;5;66;03m#load the input file\u001b[39;00m\n\u001b[0;32m----> 6\u001b[0m f1 \u001b[38;5;241m=\u001b[39m \u001b[38;5;28;43mopen\u001b[39;49m\u001b[43m(\u001b[49m\u001b[38;5;124;43m'\u001b[39;49m\u001b[38;5;124;43mdata/full_parking_violations_2016.csv\u001b[39;49m\u001b[38;5;124;43m'\u001b[39;49m\u001b[43m,\u001b[49m\u001b[38;5;124;43m'\u001b[39;49m\u001b[38;5;124;43mr\u001b[39;49m\u001b[38;5;124;43m'\u001b[39;49m\u001b[43m)\u001b[49m\n\u001b[1;32m      7\u001b[0m reader \u001b[38;5;241m=\u001b[39m csv\u001b[38;5;241m.\u001b[39mreader(f1)\n\u001b[1;32m      9\u001b[0m \u001b[38;5;66;03m#clear the destination file\u001b[39;00m\n",
      "\u001b[0;31mFileNotFoundError\u001b[0m: [Errno 2] No such file or directory: 'data/full_parking_violations_2016.csv'"
     ]
    }
   ],
   "source": [
    "# Creating subsets\n",
    "# Create a smaller subset of a very large CSV:\n",
    "import csv\n",
    "\n",
    "#load the input file\n",
    "f1 = open('data/full_parking_violations_2016.csv','r') # r is for read mode\n",
    "reader = csv.reader(f1)\n",
    "\n",
    "#clear the destination file\n",
    "f = open('data/parking_subset_feb.csv', 'w', newline ='') # w is for write mode\n",
    "f.write('')\n",
    "f.close()\n",
    "\n",
    "#open destination for appending \n",
    "f = open('data/parking_subset_feb.csv', 'a', newline ='') # a is for append mode\n",
    "writer = csv.writer(f)\n",
    "n=0\n",
    "for row in reader:\n",
    "    print(row[4])\n",
    "    if n > 1:\n",
    "        break\n",
    "    writer.writerow(row)\n",
    "    n+=1\n",
    "f.close()"
   ]
  },
  {
   "cell_type": "code",
   "execution_count": 8,
   "id": "delayed-parliament",
   "metadata": {},
   "outputs": [],
   "source": [
    "# cur.executemany()\n",
    "#insert storms.csv using this method"
   ]
  },
  {
   "cell_type": "code",
   "execution_count": null,
   "id": "satisfied-wallet",
   "metadata": {},
   "outputs": [],
   "source": []
  },
  {
   "cell_type": "code",
   "execution_count": null,
   "id": "allied-reverse",
   "metadata": {},
   "outputs": [],
   "source": []
  },
  {
   "cell_type": "markdown",
   "id": "reliable-stretch",
   "metadata": {},
   "source": [
    "To Know:\n",
    "* Be able to profile scripts and get a sense of which part is slowest.\n",
    "* Be able to work with a large CSV in a memory conscious way.\n",
    "  * iteration line by line\n",
    "  * Printing\n",
    "  * executemany()\n",
    "* Be able to write a script which inserts / filters / subsets that data"
   ]
  },
  {
   "cell_type": "markdown",
   "id": "superior-correspondence",
   "metadata": {},
   "source": []
  },
  {
   "cell_type": "code",
   "execution_count": null,
   "id": "together-conjunction",
   "metadata": {},
   "outputs": [],
   "source": []
  }
 ],
 "metadata": {
  "kernelspec": {
   "display_name": "Python 3 (ipykernel)",
   "language": "python",
   "name": "python3"
  },
  "language_info": {
   "codemirror_mode": {
    "name": "ipython",
    "version": 3
   },
   "file_extension": ".py",
   "mimetype": "text/x-python",
   "name": "python",
   "nbconvert_exporter": "python",
   "pygments_lexer": "ipython3",
   "version": "3.10.6"
  },
  "vscode": {
   "interpreter": {
    "hash": "beedbe2faf2f7048d727558d0bc3221e7eba2a0b921cac4d4771b2feb8f74b30"
   }
  }
 },
 "nbformat": 4,
 "nbformat_minor": 5
}
