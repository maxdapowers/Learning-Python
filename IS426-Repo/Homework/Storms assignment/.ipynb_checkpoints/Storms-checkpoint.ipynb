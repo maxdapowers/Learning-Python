{
 "cells": [
  {
   "cell_type": "code",
   "execution_count": 2,
   "id": "1172ec6e-1e7e-44b9-90a2-d4290900c3af",
   "metadata": {},
   "outputs": [
    {
     "name": "stdout",
     "output_type": "stream",
     "text": [
      "Hurricane Haiyan in 2013: 170 knots\n"
     ]
    }
   ],
   "source": [
    "# Find the year and name of the storm with the highest wind speed\n",
    "\n",
    "import csv\n",
    "\n",
    "with open('data/storms.csv') as f:\n",
    "    data = [{k: str(v) for k, v in row.items()}\n",
    "        for row in csv.DictReader(f, skipinitialspace=True)]\n",
    "\n",
    "prev = 0\n",
    "\n",
    "for row in data:\n",
    "    \n",
    "    try:\n",
    "        new = int(row['Wind (knots)'])\n",
    "    except:\n",
    "        pass\n",
    "    \n",
    "    if new > prev:\n",
    "        prev = new\n",
    "        name = row['Name']\n",
    "        year = row['Year']\n",
    "    else:\n",
    "        pass\n",
    "    \n",
    "    \n",
    "print (f\"Hurricane {name} in {year}: {prev} knots\")"
   ]
  },
  {
   "cell_type": "code",
   "execution_count": null,
   "id": "5b4f8a37-cd9d-43dc-9f1d-3cad8750574a",
   "metadata": {},
   "outputs": [],
   "source": [
    "# Create a script which generates 2 csv files containing the date, wind speed and name of storms \n",
    "# One csv for Atlantic region and \n",
    "# one for all pacific regions (this is any region NOT Atlantic)\n",
    "# each new csv should be put in the local directory - NOT in a subfolder\n",
    "# \n",
    "#Hint : the method will be similar to the method used to make one csv per storm category\n",
    "\n",
    "import csv\n",
    "\n",
    "#open the data and get it into row format\n",
    "with open('data/storms.csv') as f:\n",
    "    data = [{k: str(v) for k, v in row.items()}\n",
    "        for row in csv.DictReader(f, skipinitialspace=True)]\n",
    "\n",
    "f = open('storms/atlantic.csv', 'a', newline ='')\n",
    "writer = csv.writer(f)\n",
    "header = ['Name','Start Date','End Date','Wind Speed']\n",
    "\n",
    "writer.writerow(header)\n",
    "\n",
    "for row in data:\n",
    "    if row[Area] = 'Atlantic':\n",
    "        write = row['ID'],row['Start Date'],row['End Date'],row['Wind (knots)']\n",
    "        writer.writerow(write)\n",
    "                    \n",
    "f.close()\n",
    "                \n",
    "\n",
    "                \n",
    "           \n",
    "\n",
    "    \n",
    "for row in data:\n",
    "    "
   ]
  }
 ],
 "metadata": {
  "kernelspec": {
   "display_name": "Python 3 (ipykernel)",
   "language": "python",
   "name": "python3"
  },
  "language_info": {
   "codemirror_mode": {
    "name": "ipython",
    "version": 3
   },
   "file_extension": ".py",
   "mimetype": "text/x-python",
   "name": "python",
   "nbconvert_exporter": "python",
   "pygments_lexer": "ipython3",
   "version": "3.10.6"
  }
 },
 "nbformat": 4,
 "nbformat_minor": 5
}
